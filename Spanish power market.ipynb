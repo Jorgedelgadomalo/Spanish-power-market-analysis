{
 "cells": [
  {
   "cell_type": "code",
   "execution_count": 1,
   "id": "aa75ac7b-c81f-4cf4-b083-ae8e8228026b",
   "metadata": {},
   "outputs": [],
   "source": [
    "import pandas as pd"
   ]
  },
  {
   "cell_type": "code",
   "execution_count": 2,
   "id": "c0bd61da-d7e6-44ee-a922-d79a01ddfc79",
   "metadata": {},
   "outputs": [],
   "source": [
    "final_table = pd.read_csv('final_table.csv')"
   ]
  },
  {
   "cell_type": "markdown",
   "id": "3e4a918c-3838-4c87-936a-799ea0a218a1",
   "metadata": {},
   "source": [
    "***EDA, preprocessing and feature engineering***"
   ]
  },
  {
   "cell_type": "markdown",
   "id": "daf44481-3c25-4421-8104-f1cb4077cbce",
   "metadata": {},
   "source": [
    "What is the correlation between each technology and the price? Is there any technology that is more correlated with the price than the others?"
   ]
  },
  {
   "cell_type": "code",
   "execution_count": 3,
   "id": "038f05d1-87f4-4068-8505-93f6f9eda911",
   "metadata": {},
   "outputs": [
    {
     "data": {
      "text/html": [
       "<div>\n",
       "<style scoped>\n",
       "    .dataframe tbody tr th:only-of-type {\n",
       "        vertical-align: middle;\n",
       "    }\n",
       "\n",
       "    .dataframe tbody tr th {\n",
       "        vertical-align: top;\n",
       "    }\n",
       "\n",
       "    .dataframe thead th {\n",
       "        text-align: right;\n",
       "    }\n",
       "</style>\n",
       "<table border=\"1\" class=\"dataframe\">\n",
       "  <thead>\n",
       "    <tr style=\"text-align: right;\">\n",
       "      <th></th>\n",
       "      <th>datetime_utc</th>\n",
       "      <th>gen_value</th>\n",
       "      <th>gen_type</th>\n",
       "      <th>dem_value</th>\n",
       "      <th>spot_price_value</th>\n",
       "    </tr>\n",
       "  </thead>\n",
       "  <tbody>\n",
       "    <tr>\n",
       "      <th>0</th>\n",
       "      <td>2022-01-01 23:00:00+00:00</td>\n",
       "      <td>30.0</td>\n",
       "      <td>CCGT</td>\n",
       "      <td>20279.8</td>\n",
       "      <td>133.21</td>\n",
       "    </tr>\n",
       "    <tr>\n",
       "      <th>1</th>\n",
       "      <td>2022-01-01 23:00:00+00:00</td>\n",
       "      <td>853.5</td>\n",
       "      <td>Coal</td>\n",
       "      <td>20279.8</td>\n",
       "      <td>133.21</td>\n",
       "    </tr>\n",
       "    <tr>\n",
       "      <th>2</th>\n",
       "      <td>2022-01-01 23:00:00+00:00</td>\n",
       "      <td>2350.9</td>\n",
       "      <td>Hydro</td>\n",
       "      <td>20279.8</td>\n",
       "      <td>133.21</td>\n",
       "    </tr>\n",
       "    <tr>\n",
       "      <th>3</th>\n",
       "      <td>2022-01-01 23:00:00+00:00</td>\n",
       "      <td>6087.8</td>\n",
       "      <td>Nuclear</td>\n",
       "      <td>20279.8</td>\n",
       "      <td>133.21</td>\n",
       "    </tr>\n",
       "    <tr>\n",
       "      <th>4</th>\n",
       "      <td>2022-01-01 23:00:00+00:00</td>\n",
       "      <td>114.6</td>\n",
       "      <td>Solar PV</td>\n",
       "      <td>20279.8</td>\n",
       "      <td>133.21</td>\n",
       "    </tr>\n",
       "    <tr>\n",
       "      <th>...</th>\n",
       "      <td>...</td>\n",
       "      <td>...</td>\n",
       "      <td>...</td>\n",
       "      <td>...</td>\n",
       "      <td>...</td>\n",
       "    </tr>\n",
       "    <tr>\n",
       "      <th>99024</th>\n",
       "      <td>2023-07-30 16:00:00+00:00</td>\n",
       "      <td>6876.7</td>\n",
       "      <td>Nuclear</td>\n",
       "      <td>26725.9</td>\n",
       "      <td>42.65</td>\n",
       "    </tr>\n",
       "    <tr>\n",
       "      <th>99025</th>\n",
       "      <td>2023-07-30 16:00:00+00:00</td>\n",
       "      <td>12598.8</td>\n",
       "      <td>Solar PV</td>\n",
       "      <td>26725.9</td>\n",
       "      <td>42.65</td>\n",
       "    </tr>\n",
       "    <tr>\n",
       "      <th>99026</th>\n",
       "      <td>2023-07-30 16:00:00+00:00</td>\n",
       "      <td>2137.8</td>\n",
       "      <td>Solar Th</td>\n",
       "      <td>26725.9</td>\n",
       "      <td>42.65</td>\n",
       "    </tr>\n",
       "    <tr>\n",
       "      <th>99027</th>\n",
       "      <td>2023-07-30 16:00:00+00:00</td>\n",
       "      <td>30182.6</td>\n",
       "      <td>Total</td>\n",
       "      <td>26725.9</td>\n",
       "      <td>42.65</td>\n",
       "    </tr>\n",
       "    <tr>\n",
       "      <th>99028</th>\n",
       "      <td>2023-07-30 16:00:00+00:00</td>\n",
       "      <td>5032.8</td>\n",
       "      <td>Wind</td>\n",
       "      <td>26725.9</td>\n",
       "      <td>42.65</td>\n",
       "    </tr>\n",
       "  </tbody>\n",
       "</table>\n",
       "<p>99029 rows × 5 columns</p>\n",
       "</div>"
      ],
      "text/plain": [
       "                    datetime_utc  gen_value  gen_type  dem_value  \\\n",
       "0      2022-01-01 23:00:00+00:00       30.0      CCGT    20279.8   \n",
       "1      2022-01-01 23:00:00+00:00      853.5      Coal    20279.8   \n",
       "2      2022-01-01 23:00:00+00:00     2350.9     Hydro    20279.8   \n",
       "3      2022-01-01 23:00:00+00:00     6087.8   Nuclear    20279.8   \n",
       "4      2022-01-01 23:00:00+00:00      114.6  Solar PV    20279.8   \n",
       "...                          ...        ...       ...        ...   \n",
       "99024  2023-07-30 16:00:00+00:00     6876.7   Nuclear    26725.9   \n",
       "99025  2023-07-30 16:00:00+00:00    12598.8  Solar PV    26725.9   \n",
       "99026  2023-07-30 16:00:00+00:00     2137.8  Solar Th    26725.9   \n",
       "99027  2023-07-30 16:00:00+00:00    30182.6     Total    26725.9   \n",
       "99028  2023-07-30 16:00:00+00:00     5032.8      Wind    26725.9   \n",
       "\n",
       "       spot_price_value  \n",
       "0                133.21  \n",
       "1                133.21  \n",
       "2                133.21  \n",
       "3                133.21  \n",
       "4                133.21  \n",
       "...                 ...  \n",
       "99024             42.65  \n",
       "99025             42.65  \n",
       "99026             42.65  \n",
       "99027             42.65  \n",
       "99028             42.65  \n",
       "\n",
       "[99029 rows x 5 columns]"
      ]
     },
     "execution_count": 3,
     "metadata": {},
     "output_type": "execute_result"
    }
   ],
   "source": [
    "final_table"
   ]
  },
  {
   "cell_type": "code",
   "execution_count": 4,
   "id": "7789180c-a6f7-4eeb-b357-9a49810d2a10",
   "metadata": {},
   "outputs": [
    {
     "data": {
      "text/plain": [
       "datetime_utc         object\n",
       "gen_value           float64\n",
       "gen_type             object\n",
       "dem_value           float64\n",
       "spot_price_value    float64\n",
       "dtype: object"
      ]
     },
     "execution_count": 4,
     "metadata": {},
     "output_type": "execute_result"
    }
   ],
   "source": [
    "final_table.dtypes"
   ]
  },
  {
   "cell_type": "markdown",
   "id": "0070caa6-c23e-4332-9026-02904a980909",
   "metadata": {},
   "source": [
    "## EDA"
   ]
  },
  {
   "cell_type": "markdown",
   "id": "a3e4817c-f6f1-4501-9b03-83f1099ee46a",
   "metadata": {},
   "source": [
    "What is the correlation between each technology and the price? "
   ]
  },
  {
   "cell_type": "code",
   "execution_count": 8,
   "id": "38c2a1d9-5415-496f-9cba-35779583e35b",
   "metadata": {},
   "outputs": [
    {
     "name": "stdout",
     "output_type": "stream",
     "text": [
      "gen_type\n",
      "Coal        0.217308\n",
      "CCGT        0.188833\n",
      "Nuclear     0.108522\n",
      "Hydro       0.076702\n",
      "Total      -0.023039\n",
      "Wind       -0.229717\n",
      "Solar Th   -0.268863\n",
      "Solar PV   -0.278251\n",
      "Name: gen_value, dtype: float64\n"
     ]
    }
   ],
   "source": [
    "# Calculate the correlation for each technology with 'spot_price_value'\n",
    "correlations = final_table.groupby('gen_type')[['gen_value', 'spot_price_value']].corr().unstack()['spot_price_value']\n",
    "\n",
    "# Extract the correlation values\n",
    "correlation_values = correlations['gen_value']\n",
    "\n",
    "# Sort the correlations in descending order to find the highest correlated technology\n",
    "sorted_correlations = correlation_values.sort_values(ascending=False)\n",
    "\n",
    "# Print the correlations\n",
    "print(sorted_correlations)"
   ]
  },
  {
   "cell_type": "markdown",
   "id": "6b5061cb-dcc1-4ed2-9955-56de24714519",
   "metadata": {},
   "source": [
    "Is there any technology that is more correlated with the price than the others?"
   ]
  },
  {
   "cell_type": "code",
   "execution_count": 9,
   "id": "2e43cbff-fcce-4a19-97aa-bb3a9c5aab25",
   "metadata": {},
   "outputs": [
    {
     "name": "stdout",
     "output_type": "stream",
     "text": [
      "The technology most correlated with the price is 'Solar PV' with a correlation value of 0.2783.\n"
     ]
    }
   ],
   "source": [
    "# Calculate the correlation for each technology with 'spot_price_value'\n",
    "correlations = final_table.groupby('gen_type')[['gen_value', 'spot_price_value']].corr().unstack()['spot_price_value']\n",
    "\n",
    "# Find the technology with the highest absolute correlation\n",
    "max_correlation_technology = correlations['gen_value'].abs().idxmax()\n",
    "\n",
    "# Get the highest absolute correlation value\n",
    "max_correlation_value = correlations['gen_value'].abs().max()\n",
    "\n",
    "# Print the technology with the highest absolute correlation and its value\n",
    "print(f\"The technology most correlated with the price is '{max_correlation_technology}' with a correlation value of {max_correlation_value:.4f}.\")"
   ]
  },
  {
   "cell_type": "markdown",
   "id": "d6bbdd3e-d630-4d6c-b751-1962816f9b0b",
   "metadata": {},
   "source": [
    "What is the effect of having more solar+wind vs coal+ccgt?"
   ]
  },
  {
   "cell_type": "code",
   "execution_count": 11,
   "id": "ac3d547d-46e6-4599-ac6d-e3275d083f7d",
   "metadata": {},
   "outputs": [
    {
     "name": "stdout",
     "output_type": "stream",
     "text": [
      "Correlation between Solar+Wind generation and spot price: 0.0000\n",
      "Correlation between Coal+CCGT generation and spot price: 0.0000\n"
     ]
    }
   ],
   "source": [
    "# Create columns for combined solar+wind and coal+ccgt generation\n",
    "final_table['solar_wind_gen'] = final_table[(final_table['gen_type'] == 'Solar PV') | (final_table['gen_type'] == 'Wind')]['gen_value'].sum()\n",
    "final_table['coal_ccgt_gen'] = final_table[(final_table['gen_type'] == 'Coal') | (final_table['gen_type'] == 'CCGT')]['gen_value'].sum()\n",
    "\n",
    "# Calculate the correlation between combined generation and spot price\n",
    "solar_wind_corr = final_table['solar_wind_gen'].corr(final_table['spot_price_value'])\n",
    "coal_ccgt_corr = final_table['coal_ccgt_gen'].corr(final_table['spot_price_value'])\n",
    "\n",
    "# Print the correlations\n",
    "print(f\"Correlation between Solar+Wind generation and spot price: {solar_wind_corr:.4f}\")\n",
    "print(f\"Correlation between Coal+CCGT generation and spot price: {coal_ccgt_corr:.4f}\")"
   ]
  },
  {
   "cell_type": "markdown",
   "id": "7e2b1265-d591-4900-ad4d-1e9bad24746e",
   "metadata": {},
   "source": [
    "The correlation values of 0.0000 suggest that there is no linear correlation between the combined solar+wind or coal+ccgt generation and the spot price. However, it's important to note that correlation measures linear relationships, and it's possible that the relationships between these variables are not linear.\n",
    "\n",
    "To understand the relationship more comprehensively, I will visualize the data using plots, such as scatter plots, to see if there are any patterns or trends that may not be captured by linear correlation.\n",
    "\n",
    "Additionally, it's also possible that other factors or variables not considered in this analysis may have a more significant impact on the spot price. Exploring additional features and conducting more advanced statistical analyses may provide a better understanding of the effects of different generation sources on the spot price. But for now, this enough and valuable insights for the feature engineering and ML part futher on."
   ]
  },
  {
   "cell_type": "code",
   "execution_count": 12,
   "id": "3fafa5d8-6456-4dbe-8aad-b6bef6c5dce9",
   "metadata": {},
   "outputs": [
    {
     "data": {
      "image/png": "[encoded data removed]",
      "text/plain": [
       "<Figure size 800x400 with 1 Axes>"
      ]
     },
     "metadata": {},
     "output_type": "display_data"
    },
    {
     "data": {
      "image/png": "[encoded data removed]",
      "text/plain": [
       "<Figure size 800x400 with 1 Axes>"
      ]
     },
     "metadata": {},
     "output_type": "display_data"
    }
   ],
   "source": [
    "import matplotlib.pyplot as plt\n",
    "\n",
    "# Create scatter plot for Solar+Wind generation vs. Spot Price\n",
    "plt.figure(figsize=(8, 4))\n",
    "plt.scatter(final_table['solar_wind_gen'], final_table['spot_price_value'], alpha=0.5)\n",
    "plt.title(\"Solar+Wind Generation vs. Spot Price\")\n",
    "plt.xlabel(\"Solar+Wind Generation\")\n",
    "plt.ylabel(\"Spot Price\")\n",
    "plt.show()\n",
    "\n",
    "# Create scatter plot for Coal+CCGT generation vs. Spot Price\n",
    "plt.figure(figsize=(8, 4))\n",
    "plt.scatter(final_table['coal_ccgt_gen'], final_table['spot_price_value'], alpha=0.5)\n",
    "plt.title(\"Coal+CCGT Generation vs. Spot Price\")\n",
    "plt.xlabel(\"Coal+CCGT Generation\")\n",
    "plt.ylabel(\"Spot Price\")\n",
    "plt.show()"
   ]
  },
  {
   "cell_type": "markdown",
   "id": "b39a8f98-4f0a-48de-9eff-87c980fe8ba5",
   "metadata": {},
   "source": [
    "These scatter plots show the relationship between combined generation and spot prices for both Solar+Wind and Coal+CCGT."
   ]
  },
  {
   "cell_type": "markdown",
   "id": "683790dc-f5d8-449b-827d-70888e48aabc",
   "metadata": {},
   "source": [
    " Is there any correlation between the price and the amount of solar+wind vs coal+ccgt?"
   ]
  },
  {
   "cell_type": "code",
   "execution_count": 13,
   "id": "86c517e6-c354-4e03-adf5-b533c6c5367b",
   "metadata": {},
   "outputs": [
    {
     "name": "stdout",
     "output_type": "stream",
     "text": [
      "Correlation between Solar+Wind to Coal+CCGT ratio and spot price: -0.0000\n"
     ]
    }
   ],
   "source": [
    "# Calculate the ratio of Solar+Wind generation to Coal+CCGT generation\n",
    "final_table['solar_wind_ccgt_ratio'] = final_table['solar_wind_gen'] / final_table['coal_ccgt_gen']\n",
    "\n",
    "# Calculate the correlation between the ratio and spot price\n",
    "correlation_ratio_price = final_table['solar_wind_ccgt_ratio'].corr(final_table['spot_price_value'])\n",
    "\n",
    "# Print the correlation\n",
    "print(f\"Correlation between Solar+Wind to Coal+CCGT ratio and spot price: {correlation_ratio_price:.4f}\")"
   ]
  },
  {
   "cell_type": "markdown",
   "id": "2cebc66f-7039-41db-b54c-517620b39c8d",
   "metadata": {},
   "source": [
    "This is showing the exact same insight I got before, there is no correlation between the price and the amount of solar+wind vs coal+ccgt"
   ]
  },
  {
   "cell_type": "markdown",
   "id": "a434468c-8fe6-497a-ba5a-e326d77f7395",
   "metadata": {},
   "source": [
    "EXTRA: Can you find any other interesting patterns on the data?"
   ]
  },
  {
   "cell_type": "markdown",
   "id": "85295fcf-ece8-4fc0-bf08-54ff3d13a2ae",
   "metadata": {},
   "source": [
    "Time Series Analysis:\n",
    "Trend and Seasonality:"
   ]
  },
  {
   "cell_type": "code",
   "execution_count": 15,
   "id": "49be912b-8867-4c7a-976d-a6e43fe941ba",
   "metadata": {},
   "outputs": [
    {
     "data": {
      "image/png": "[encoded data removed]",
      "text/plain": [
       "<Figure size 1200x600 with 1 Axes>"
      ]
     },
     "metadata": {},
     "output_type": "display_data"
    }
   ],
   "source": [
    "# Plot the time series data for spot prices\n",
    "plt.figure(figsize=(12, 6))\n",
    "plt.plot(final_table['datetime_utc'], final_table['spot_price_value'], label='Spot Prices')\n",
    "plt.title('Spot Price Time Series')\n",
    "plt.xlabel('Date')\n",
    "plt.ylabel('Spot Price')\n",
    "plt.legend()\n",
    "plt.grid()\n",
    "plt.show()"
   ]
  },
  {
   "cell_type": "markdown",
   "id": "562461c1-118b-46d9-b1d1-dd45034f7701",
   "metadata": {},
   "source": [
    "Correlations:\n",
    "Technology Correlations:"
   ]
  },
  {
   "cell_type": "code",
   "execution_count": 16,
   "id": "b7e83d40-0cec-4ced-8228-b88370773bfc",
   "metadata": {},
   "outputs": [
    {
     "name": "stdout",
     "output_type": "stream",
     "text": [
      "          gen_value  spot_price_value\n",
      "gen_type                             \n",
      "CCGT       0.188833               1.0\n",
      "Coal       0.217308               1.0\n",
      "Hydro      0.076702               1.0\n",
      "Nuclear    0.108522               1.0\n",
      "Solar PV  -0.278251               1.0\n",
      "Solar Th  -0.268863               1.0\n",
      "Total     -0.023039               1.0\n",
      "Wind      -0.229717               1.0\n"
     ]
    }
   ],
   "source": [
    "# Correlation matrix for different generation technologies\n",
    "tech_correlation = final_table.groupby('gen_type')[['gen_value', 'spot_price_value']].corr().unstack()['spot_price_value']\n",
    "print(tech_correlation)"
   ]
  },
  {
   "cell_type": "markdown",
   "id": "f7c20328-94f6-41b0-b84c-440e56ec7692",
   "metadata": {},
   "source": [
    "Anomalies and Outliers:\n",
    "Spot Price Spikes:"
   ]
  },
  {
   "cell_type": "code",
   "execution_count": 21,
   "id": "901f3352-e57a-4203-80eb-b5a8854eb328",
   "metadata": {},
   "outputs": [
    {
     "name": "stdout",
     "output_type": "stream",
     "text": [
      "                   datetime_utc  gen_value  gen_type  dem_value  \\\n",
      "0     2022-01-01 23:00:00+00:00       30.0      CCGT    20279.8   \n",
      "1     2022-01-01 23:00:00+00:00      853.5      Coal    20279.8   \n",
      "2     2022-01-01 23:00:00+00:00     2350.9     Hydro    20279.8   \n",
      "3     2022-01-01 23:00:00+00:00     6087.8   Nuclear    20279.8   \n",
      "4     2022-01-01 23:00:00+00:00      114.6  Solar PV    20279.8   \n",
      "...                         ...        ...       ...        ...   \n",
      "98478 2023-05-07 18:00:00+00:00     5062.7   Nuclear    22023.2   \n",
      "98479 2023-05-07 18:00:00+00:00     2184.7  Solar PV    22023.2   \n",
      "98480 2023-05-07 18:00:00+00:00     1281.4  Solar Th    22023.2   \n",
      "98481 2023-05-07 18:00:00+00:00    23765.4     Total    22023.2   \n",
      "98482 2023-05-07 18:00:00+00:00     8934.2      Wind    22023.2   \n",
      "\n",
      "       spot_price_value  solar_wind_gen  coal_ccgt_gen  solar_wind_ccgt_ratio  \n",
      "0                133.21     150887319.8     62357603.4                2.41971  \n",
      "1                133.21     150887319.8     62357603.4                2.41971  \n",
      "2                133.21     150887319.8     62357603.4                2.41971  \n",
      "3                133.21     150887319.8     62357603.4                2.41971  \n",
      "4                133.21     150887319.8     62357603.4                2.41971  \n",
      "...                 ...             ...            ...                    ...  \n",
      "98478            107.43     150887319.8     62357603.4                2.41971  \n",
      "98479            107.43     150887319.8     62357603.4                2.41971  \n",
      "98480            107.43     150887319.8     62357603.4                2.41971  \n",
      "98481            107.43     150887319.8     62357603.4                2.41971  \n",
      "98482            107.43     150887319.8     62357603.4                2.41971  \n",
      "\n",
      "[72239 rows x 8 columns]\n"
     ]
    }
   ],
   "source": [
    "# Identify and visualize spot price spikes (e.g., values exceeding a threshold)\n",
    "threshold = 100  # Set a threshold for price spikes\n",
    "price_spikes = final_table[final_table['spot_price_value'] > threshold]\n",
    "print(price_spikes)"
   ]
  },
  {
   "cell_type": "markdown",
   "id": "6a400bff-0665-4f5d-846d-358d57f6ecf9",
   "metadata": {},
   "source": [
    "Demand Anomalies:"
   ]
  },
  {
   "cell_type": "code",
   "execution_count": 22,
   "id": "679868c3-1dce-40ea-8192-320303f5ef7e",
   "metadata": {},
   "outputs": [
    {
     "data": {
      "image/png": "[encoded data removed]",
      "text/plain": [
       "<Figure size 1200x600 with 1 Axes>"
      ]
     },
     "metadata": {},
     "output_type": "display_data"
    }
   ],
   "source": [
    "# Visualize demand anomalies\n",
    "plt.figure(figsize=(12, 6))\n",
    "plt.plot(final_table['datetime_utc'], final_table['dem_value'], label='Demand')\n",
    "plt.title('Demand Time Series')\n",
    "plt.xlabel('Date')\n",
    "plt.ylabel('Demand')\n",
    "plt.legend()\n",
    "plt.grid()\n",
    "plt.show()"
   ]
  },
  {
   "cell_type": "markdown",
   "id": "feb12287-3959-4e7f-b46a-27ba15751939",
   "metadata": {},
   "source": [
    "Technology Analysis:\n",
    "Technology Mix Changes:"
   ]
  },
  {
   "cell_type": "code",
   "execution_count": 24,
   "id": "e3729151-6294-44c7-b3d8-3c05065e5a4e",
   "metadata": {},
   "outputs": [
    {
     "data": {
      "text/plain": [
       "<Axes: xlabel='datetime_utc'>"
      ]
     },
     "execution_count": 24,
     "metadata": {},
     "output_type": "execute_result"
    },
    {
     "data": {
      "image/png": "[encoded data removed]",
      "text/plain": [
       "<Figure size 1200x600 with 1 Axes>"
      ]
     },
     "metadata": {},
     "output_type": "display_data"
    }
   ],
   "source": [
    "# Plot the changes in the mix of energy generation technologies over time\n",
    "tech_mix = final_table.groupby(['datetime_utc', 'gen_type'])['gen_value'].sum().unstack()\n",
    "tech_mix.plot.area(figsize=(12, 6))"
   ]
  },
  {
   "cell_type": "markdown",
   "id": "f4cac2c4-3dbd-4068-b6f9-7025e30afe4c",
   "metadata": {},
   "source": [
    "Technology Impact:"
   ]
  },
  {
   "cell_type": "code",
   "execution_count": 25,
   "id": "ca12d995-01c7-441b-a577-89f1e6f22db2",
   "metadata": {},
   "outputs": [
    {
     "data": {
      "image/png": "[encoded data removed]",
      "text/plain": [
       "<Figure size 1200x600 with 1 Axes>"
      ]
     },
     "metadata": {},
     "output_type": "display_data"
    }
   ],
   "source": [
    "# Compare the impact of specific technologies on spot prices\n",
    "solar_impact = final_table[final_table['gen_type'] == 'Solar PV']\n",
    "wind_impact = final_table[final_table['gen_type'] == 'Wind']\n",
    "plt.figure(figsize=(12, 6))\n",
    "plt.plot(solar_impact['datetime_utc'], solar_impact['spot_price_value'], label='Solar PV', alpha=0.5)\n",
    "plt.plot(wind_impact['datetime_utc'], wind_impact['spot_price_value'], label='Wind', alpha=0.5)\n",
    "plt.title('Spot Price Impact of Solar PV and Wind')\n",
    "plt.xlabel('Date')\n",
    "plt.ylabel('Spot Price')\n",
    "plt.legend()\n",
    "plt.grid()\n",
    "plt.show()"
   ]
  },
  {
   "cell_type": "markdown",
   "id": "a4e5dab5-3c13-49f1-8244-57f29ac4315a",
   "metadata": {},
   "source": [
    "## Data preprocessing"
   ]
  },
  {
   "cell_type": "markdown",
   "id": "2feda468-6d87-483d-a37c-fce34061f261",
   "metadata": {},
   "source": [
    "Convert the 'datetime_utc' column to a datetime data type:"
   ]
  },
  {
   "cell_type": "code",
   "execution_count": 26,
   "id": "c5fa4b2c-51f7-41c5-abcd-d97b8c367d3c",
   "metadata": {},
   "outputs": [],
   "source": [
    "final_table['datetime_utc'] = pd.to_datetime(final_table['datetime_utc'])"
   ]
  },
  {
   "cell_type": "code",
   "execution_count": 27,
   "id": "7826d615-941e-4da2-a833-222ce71ea72f",
   "metadata": {},
   "outputs": [
    {
     "data": {
      "text/plain": [
       "datetime_utc             datetime64[ns, UTC]\n",
       "gen_value                            float64\n",
       "gen_type                              object\n",
       "dem_value                            float64\n",
       "spot_price_value                     float64\n",
       "solar_wind_gen                       float64\n",
       "coal_ccgt_gen                        float64\n",
       "solar_wind_ccgt_ratio                float64\n",
       "dtype: object"
      ]
     },
     "execution_count": 27,
     "metadata": {},
     "output_type": "execute_result"
    }
   ],
   "source": [
    "final_table.dtypes"
   ]
  },
  {
   "cell_type": "markdown",
   "id": "eaf3bee5-17bb-445d-8a54-0f6232ac7495",
   "metadata": {},
   "source": [
    "Adding year, month, day, etc., to the table to analyze it further:"
   ]
  },
  {
   "cell_type": "code",
   "execution_count": 28,
   "id": "8ba51ca3-79b5-4482-82b1-dfdcf4bc30a1",
   "metadata": {},
   "outputs": [],
   "source": [
    "final_table['year'] = final_table['datetime_utc'].dt.year\n",
    "final_table['month'] = final_table['datetime_utc'].dt.month\n",
    "final_table['day'] = final_table['datetime_utc'].dt.day\n",
    "final_table['hour'] = final_table['datetime_utc'].dt.hour\n",
    "final_table['minute'] = final_table['datetime_utc'].dt.minute\n",
    "final_table['second'] = final_table['datetime_utc'].dt.second\n",
    "final_table['day_of_week'] = final_table['datetime_utc'].dt.dayofweek  # Monday = 0, Sunday = 6"
   ]
  },
  {
   "cell_type": "code",
   "execution_count": 30,
   "id": "0d987b83-5198-438d-b6c6-6fc85a9135d5",
   "metadata": {},
   "outputs": [
    {
     "data": {
      "text/html": [
       "<div>\n",
       "<style scoped>\n",
       "    .dataframe tbody tr th:only-of-type {\n",
       "        vertical-align: middle;\n",
       "    }\n",
       "\n",
       "    .dataframe tbody tr th {\n",
       "        vertical-align: top;\n",
       "    }\n",
       "\n",
       "    .dataframe thead th {\n",
       "        text-align: right;\n",
       "    }\n",
       "</style>\n",
       "<table border=\"1\" class=\"dataframe\">\n",
       "  <thead>\n",
       "    <tr style=\"text-align: right;\">\n",
       "      <th></th>\n",
       "      <th>datetime_utc</th>\n",
       "      <th>gen_value</th>\n",
       "      <th>gen_type</th>\n",
       "      <th>dem_value</th>\n",
       "      <th>spot_price_value</th>\n",
       "      <th>solar_wind_gen</th>\n",
       "      <th>coal_ccgt_gen</th>\n",
       "      <th>solar_wind_ccgt_ratio</th>\n",
       "      <th>year</th>\n",
       "      <th>month</th>\n",
       "      <th>day</th>\n",
       "      <th>hour</th>\n",
       "      <th>minute</th>\n",
       "      <th>second</th>\n",
       "      <th>day_of_week</th>\n",
       "    </tr>\n",
       "  </thead>\n",
       "  <tbody>\n",
       "    <tr>\n",
       "      <th>0</th>\n",
       "      <td>2022-01-01 23:00:00+00:00</td>\n",
       "      <td>30.0</td>\n",
       "      <td>CCGT</td>\n",
       "      <td>20279.8</td>\n",
       "      <td>133.21</td>\n",
       "      <td>150887319.8</td>\n",
       "      <td>62357603.4</td>\n",
       "      <td>2.41971</td>\n",
       "      <td>2022</td>\n",
       "      <td>1</td>\n",
       "      <td>1</td>\n",
       "      <td>23</td>\n",
       "      <td>0</td>\n",
       "      <td>0</td>\n",
       "      <td>5</td>\n",
       "    </tr>\n",
       "    <tr>\n",
       "      <th>1</th>\n",
       "      <td>2022-01-01 23:00:00+00:00</td>\n",
       "      <td>853.5</td>\n",
       "      <td>Coal</td>\n",
       "      <td>20279.8</td>\n",
       "      <td>133.21</td>\n",
       "      <td>150887319.8</td>\n",
       "      <td>62357603.4</td>\n",
       "      <td>2.41971</td>\n",
       "      <td>2022</td>\n",
       "      <td>1</td>\n",
       "      <td>1</td>\n",
       "      <td>23</td>\n",
       "      <td>0</td>\n",
       "      <td>0</td>\n",
       "      <td>5</td>\n",
       "    </tr>\n",
       "    <tr>\n",
       "      <th>2</th>\n",
       "      <td>2022-01-01 23:00:00+00:00</td>\n",
       "      <td>2350.9</td>\n",
       "      <td>Hydro</td>\n",
       "      <td>20279.8</td>\n",
       "      <td>133.21</td>\n",
       "      <td>150887319.8</td>\n",
       "      <td>62357603.4</td>\n",
       "      <td>2.41971</td>\n",
       "      <td>2022</td>\n",
       "      <td>1</td>\n",
       "      <td>1</td>\n",
       "      <td>23</td>\n",
       "      <td>0</td>\n",
       "      <td>0</td>\n",
       "      <td>5</td>\n",
       "    </tr>\n",
       "    <tr>\n",
       "      <th>3</th>\n",
       "      <td>2022-01-01 23:00:00+00:00</td>\n",
       "      <td>6087.8</td>\n",
       "      <td>Nuclear</td>\n",
       "      <td>20279.8</td>\n",
       "      <td>133.21</td>\n",
       "      <td>150887319.8</td>\n",
       "      <td>62357603.4</td>\n",
       "      <td>2.41971</td>\n",
       "      <td>2022</td>\n",
       "      <td>1</td>\n",
       "      <td>1</td>\n",
       "      <td>23</td>\n",
       "      <td>0</td>\n",
       "      <td>0</td>\n",
       "      <td>5</td>\n",
       "    </tr>\n",
       "    <tr>\n",
       "      <th>4</th>\n",
       "      <td>2022-01-01 23:00:00+00:00</td>\n",
       "      <td>114.6</td>\n",
       "      <td>Solar PV</td>\n",
       "      <td>20279.8</td>\n",
       "      <td>133.21</td>\n",
       "      <td>150887319.8</td>\n",
       "      <td>62357603.4</td>\n",
       "      <td>2.41971</td>\n",
       "      <td>2022</td>\n",
       "      <td>1</td>\n",
       "      <td>1</td>\n",
       "      <td>23</td>\n",
       "      <td>0</td>\n",
       "      <td>0</td>\n",
       "      <td>5</td>\n",
       "    </tr>\n",
       "  </tbody>\n",
       "</table>\n",
       "</div>"
      ],
      "text/plain": [
       "               datetime_utc  gen_value  gen_type  dem_value  spot_price_value  \\\n",
       "0 2022-01-01 23:00:00+00:00       30.0      CCGT    20279.8            133.21   \n",
       "1 2022-01-01 23:00:00+00:00      853.5      Coal    20279.8            133.21   \n",
       "2 2022-01-01 23:00:00+00:00     2350.9     Hydro    20279.8            133.21   \n",
       "3 2022-01-01 23:00:00+00:00     6087.8   Nuclear    20279.8            133.21   \n",
       "4 2022-01-01 23:00:00+00:00      114.6  Solar PV    20279.8            133.21   \n",
       "\n",
       "   solar_wind_gen  coal_ccgt_gen  solar_wind_ccgt_ratio  year  month  day  \\\n",
       "0     150887319.8     62357603.4                2.41971  2022      1    1   \n",
       "1     150887319.8     62357603.4                2.41971  2022      1    1   \n",
       "2     150887319.8     62357603.4                2.41971  2022      1    1   \n",
       "3     150887319.8     62357603.4                2.41971  2022      1    1   \n",
       "4     150887319.8     62357603.4                2.41971  2022      1    1   \n",
       "\n",
       "   hour  minute  second  day_of_week  \n",
       "0    23       0       0            5  \n",
       "1    23       0       0            5  \n",
       "2    23       0       0            5  \n",
       "3    23       0       0            5  \n",
       "4    23       0       0            5  "
      ]
     },
     "execution_count": 30,
     "metadata": {},
     "output_type": "execute_result"
    }
   ],
   "source": [
    "final_table.head()"
   ]
  },
  {
   "cell_type": "code",
   "execution_count": 32,
   "id": "c6c98e5e-04e4-4b60-9561-3ab754072394",
   "metadata": {},
   "outputs": [
    {
     "data": {
      "text/plain": [
       "array([2022, 2023, 2021], dtype=int32)"
      ]
     },
     "execution_count": 32,
     "metadata": {},
     "output_type": "execute_result"
    }
   ],
   "source": [
    "final_table['year'].unique()"
   ]
  },
  {
   "cell_type": "code",
   "execution_count": 33,
   "id": "da92358e-6fa1-4b5f-aa40-8c05487e2ca7",
   "metadata": {},
   "outputs": [
    {
     "data": {
      "text/plain": [
       "array([ 1,  2,  3,  4,  5,  6,  7, 10, 11, 12, 13, 14, 15, 16, 17, 18, 19,\n",
       "       20, 21, 22, 23, 24, 25, 26, 27, 28, 29, 30, 31,  8,  9],\n",
       "      dtype=int32)"
      ]
     },
     "execution_count": 33,
     "metadata": {},
     "output_type": "execute_result"
    }
   ],
   "source": [
    "final_table['day'].unique()"
   ]
  },
  {
   "cell_type": "code",
   "execution_count": 38,
   "id": "603cfc87-4cd7-4f8d-aa07-2cedb0583a7c",
   "metadata": {},
   "outputs": [
    {
     "data": {
      "text/plain": [
       "array([ 1,  2,  3,  4,  5,  6,  7,  8,  9, 10, 11, 12], dtype=int32)"
      ]
     },
     "execution_count": 38,
     "metadata": {},
     "output_type": "execute_result"
    }
   ],
   "source": [
    "final_table['month'].unique()"
   ]
  },
  {
   "cell_type": "code",
   "execution_count": 34,
   "id": "45a5a8ee-94af-4b3a-a265-0268f5e98bb0",
   "metadata": {},
   "outputs": [
    {
     "data": {
      "text/plain": [
       "array([23,  5,  6,  7,  8,  9, 10, 11, 12, 13, 14, 15, 16, 17, 18, 19, 20,\n",
       "       21, 22,  0,  1,  2,  3,  4], dtype=int32)"
      ]
     },
     "execution_count": 34,
     "metadata": {},
     "output_type": "execute_result"
    }
   ],
   "source": [
    "final_table['hour'].unique()"
   ]
  },
  {
   "cell_type": "code",
   "execution_count": 35,
   "id": "505e44b3-5e5b-4384-8f10-7f877cc5aedc",
   "metadata": {},
   "outputs": [
    {
     "data": {
      "text/plain": [
       "array([0], dtype=int32)"
      ]
     },
     "execution_count": 35,
     "metadata": {},
     "output_type": "execute_result"
    }
   ],
   "source": [
    "final_table['minute'].unique()"
   ]
  },
  {
   "cell_type": "code",
   "execution_count": 36,
   "id": "3254336c-9bd6-4e21-a2ed-004c38d9547d",
   "metadata": {},
   "outputs": [
    {
     "data": {
      "text/plain": [
       "array([0], dtype=int32)"
      ]
     },
     "execution_count": 36,
     "metadata": {},
     "output_type": "execute_result"
    }
   ],
   "source": [
    "final_table['second'].unique()"
   ]
  },
  {
   "cell_type": "code",
   "execution_count": 37,
   "id": "084abad0-4001-47f2-b536-667201ccf1c4",
   "metadata": {},
   "outputs": [
    {
     "data": {
      "text/plain": [
       "array([5, 6, 0, 1, 2, 3, 4], dtype=int32)"
      ]
     },
     "execution_count": 37,
     "metadata": {},
     "output_type": "execute_result"
    }
   ],
   "source": [
    "final_table['day_of_week'].unique()"
   ]
  },
  {
   "cell_type": "markdown",
   "id": "3f7a1038-09d2-4efd-9090-2001b4122b03",
   "metadata": {},
   "source": [
    "After this analysis, I can see the table indeed has infomation fo the years, 2021, 22, and 23. It has infomation for all days of the month, from 1 to 31. All months, 1 to 12. All hours, all days of the way, but no information for minutes or seconds, and this is because the original datasets had information based on an hourly granularity."
   ]
  },
  {
   "cell_type": "markdown",
   "id": "9e3b4aa6-53cb-49e8-874d-b196d1c7c28a",
   "metadata": {},
   "source": [
    "Find missing values and choose your strategy for dealing with them"
   ]
  },
  {
   "cell_type": "code",
   "execution_count": 39,
   "id": "cb4e79b6-1087-4e26-a6bd-76bec805d400",
   "metadata": {},
   "outputs": [
    {
     "data": {
      "text/plain": [
       "datetime_utc             0.0\n",
       "gen_value                0.0\n",
       "gen_type                 0.0\n",
       "dem_value                0.0\n",
       "spot_price_value         0.0\n",
       "solar_wind_gen           0.0\n",
       "coal_ccgt_gen            0.0\n",
       "solar_wind_ccgt_ratio    0.0\n",
       "year                     0.0\n",
       "month                    0.0\n",
       "day                      0.0\n",
       "hour                     0.0\n",
       "minute                   0.0\n",
       "second                   0.0\n",
       "day_of_week              0.0\n",
       "dtype: float64"
      ]
     },
     "execution_count": 39,
     "metadata": {},
     "output_type": "execute_result"
    }
   ],
   "source": [
    "final_table.isna().mean()"
   ]
  },
  {
   "cell_type": "markdown",
   "id": "7b090c73-28b1-4bdb-a04d-d2cc0afabbea",
   "metadata": {},
   "source": [
    "My data has no missing values inside it, so there will be no need do a filling strategy"
   ]
  },
  {
   "cell_type": "markdown",
   "id": "6cb48f9b-58bc-4ea6-9064-919f834de277",
   "metadata": {},
   "source": [
    "Is there any categorical feature that you need to take care of?"
   ]
  },
  {
   "cell_type": "code",
   "execution_count": 40,
   "id": "c5d8171c-f908-43e7-af7d-83d6f462f904",
   "metadata": {},
   "outputs": [
    {
     "data": {
      "text/plain": [
       "datetime_utc             datetime64[ns, UTC]\n",
       "gen_value                            float64\n",
       "gen_type                              object\n",
       "dem_value                            float64\n",
       "spot_price_value                     float64\n",
       "solar_wind_gen                       float64\n",
       "coal_ccgt_gen                        float64\n",
       "solar_wind_ccgt_ratio                float64\n",
       "year                                   int32\n",
       "month                                  int32\n",
       "day                                    int32\n",
       "hour                                   int32\n",
       "minute                                 int32\n",
       "second                                 int32\n",
       "day_of_week                            int32\n",
       "dtype: object"
      ]
     },
     "execution_count": 40,
     "metadata": {},
     "output_type": "execute_result"
    }
   ],
   "source": [
    "final_table.dtypes"
   ]
  },
  {
   "cell_type": "markdown",
   "id": "233b7f26-ec18-438f-b4e3-9bdf5f3a71cf",
   "metadata": {},
   "source": [
    "gen_type is a categorical variable, where the values inside it are labels refering to which specific technology the values belong to. It is a very valuable variable for this excercise, because when trying to predict future data, it can be helpful to know which technology is doing better, or is performig worse, which one does not have importance for the future, etc., there are a lot of useful ways to handle it. But for this specific excercise, and due to computational restraints(hardware) I won't be able to use it for the model, I'll just need to use the values. Nonetheless, it is important to mention that if requiered, and having better computational resources, analyzing this variable is really important, like maybe a multivariaate model for predicting future data."
   ]
  },
  {
   "cell_type": "markdown",
   "id": "669f5e61-77c1-4a9d-b507-e793e255ae3f",
   "metadata": {},
   "source": [
    "## Feature Engineering"
   ]
  },
  {
   "cell_type": "markdown",
   "id": "e7fb692d-5d6c-4953-a0e0-baba23c4bd13",
   "metadata": {},
   "source": [
    "Build new features, apart from the ones I already built derived from the time stamp (hour, month, etc.)"
   ]
  },
  {
   "cell_type": "markdown",
   "id": "0ba18168-48d1-47b2-a1df-eeddfaecb184",
   "metadata": {},
   "source": [
    "Moving Averages"
   ]
  },
  {
   "cell_type": "code",
   "execution_count": 41,
   "id": "b05993a4-dab0-4e62-8682-0ab674a28cd6",
   "metadata": {},
   "outputs": [],
   "source": [
    "final_table['gen_value_rolling_mean'] = final_table['gen_value'].rolling(window=7).mean()\n",
    "final_table['dem_value_rolling_mean'] = final_table['dem_value'].rolling(window=7).mean()\n",
    "final_table['spot_price_value_rolling_mean'] = final_table['spot_price_value'].rolling(window=7).mean()"
   ]
  },
  {
   "cell_type": "markdown",
   "id": "9ff383fc-75d8-4e30-b9e2-974cf2d638e5",
   "metadata": {},
   "source": [
    "Lagged Features:"
   ]
  },
  {
   "cell_type": "code",
   "execution_count": 43,
   "id": "7e83145d-5617-47db-9f96-caf599bfe6c5",
   "metadata": {},
   "outputs": [],
   "source": [
    "final_table['spot_price_lag_1'] = final_table['spot_price_value'].shift(1)"
   ]
  },
  {
   "cell_type": "markdown",
   "id": "6e9eb062-2a22-4a0b-9c0d-d463f80e9700",
   "metadata": {},
   "source": [
    "Solar_wind_gen_ratio' feature that represents the ratio of solar and wind generation:"
   ]
  },
  {
   "cell_type": "code",
   "execution_count": 44,
   "id": "ffdf1e10-0347-464a-9cad-c772733db1be",
   "metadata": {},
   "outputs": [],
   "source": [
    "final_table['solar_wind_gen_ratio'] = final_table['solar_wind_gen'] / (final_table['solar_wind_gen'] + final_table['coal_ccgt_gen'])"
   ]
  },
  {
   "cell_type": "markdown",
   "id": "ea2de128-d882-42b1-97ae-a74779089bd8",
   "metadata": {},
   "source": [
    "Combined features: 'total_generation' feature by summing the generation values of all technologies."
   ]
  },
  {
   "cell_type": "code",
   "execution_count": 45,
   "id": "d9d3e858-01e2-4b36-b29e-74c16e0c8418",
   "metadata": {},
   "outputs": [],
   "source": [
    "final_table['total_generation'] = final_table[['gen_value', 'solar_wind_gen', 'coal_ccgt_gen']].sum(axis=1)"
   ]
  },
  {
   "cell_type": "markdown",
   "id": "d04baba7-08b7-4b06-bfaa-2e52f79961c7",
   "metadata": {},
   "source": [
    "Technology grouping: categorize technologies into \"renewable\" and \"non-renewable.\""
   ]
  },
  {
   "cell_type": "code",
   "execution_count": 47,
   "id": "4a95c8bf-bdab-4866-801c-42eebd0fb4df",
   "metadata": {},
   "outputs": [],
   "source": [
    "import numpy as np\n",
    "final_table['technology_group'] = np.where(final_table['gen_type'].isin(['solar', 'wind']), 'renewable', 'non-renewable')"
   ]
  },
  {
   "cell_type": "markdown",
   "id": "54ead404-7d4e-4cb9-98c9-aa015bb0a8ac",
   "metadata": {},
   "source": [
    "Intermittent vs. Continuous:"
   ]
  },
  {
   "cell_type": "code",
   "execution_count": 48,
   "id": "14249665-9690-4928-abdc-164e03eba217",
   "metadata": {},
   "outputs": [],
   "source": [
    "intermittent_technologies = ['solar', 'wind']\n",
    "final_table['generation_pattern'] = np.where(final_table['gen_type'].isin(intermittent_technologies), 'intermittent', 'continuous')"
   ]
  },
  {
   "cell_type": "code",
   "execution_count": 51,
   "id": "3cd3c11e-1fee-477d-804f-0f30ebe22a5f",
   "metadata": {},
   "outputs": [
    {
     "data": {
      "text/html": [
       "<div>\n",
       "<style scoped>\n",
       "    .dataframe tbody tr th:only-of-type {\n",
       "        vertical-align: middle;\n",
       "    }\n",
       "\n",
       "    .dataframe tbody tr th {\n",
       "        vertical-align: top;\n",
       "    }\n",
       "\n",
       "    .dataframe thead th {\n",
       "        text-align: right;\n",
       "    }\n",
       "</style>\n",
       "<table border=\"1\" class=\"dataframe\">\n",
       "  <thead>\n",
       "    <tr style=\"text-align: right;\">\n",
       "      <th></th>\n",
       "      <th>datetime_utc</th>\n",
       "      <th>gen_value</th>\n",
       "      <th>gen_type</th>\n",
       "      <th>dem_value</th>\n",
       "      <th>spot_price_value</th>\n",
       "      <th>solar_wind_gen</th>\n",
       "      <th>coal_ccgt_gen</th>\n",
       "      <th>solar_wind_ccgt_ratio</th>\n",
       "      <th>year</th>\n",
       "      <th>month</th>\n",
       "      <th>...</th>\n",
       "      <th>second</th>\n",
       "      <th>day_of_week</th>\n",
       "      <th>gen_value_rolling_mean</th>\n",
       "      <th>dem_value_rolling_mean</th>\n",
       "      <th>spot_price_value_rolling_mean</th>\n",
       "      <th>spot_price_lag_1</th>\n",
       "      <th>solar_wind_gen_ratio</th>\n",
       "      <th>total_generation</th>\n",
       "      <th>technology_group</th>\n",
       "      <th>generation_pattern</th>\n",
       "    </tr>\n",
       "  </thead>\n",
       "  <tbody>\n",
       "    <tr>\n",
       "      <th>0</th>\n",
       "      <td>2022-01-01 23:00:00+00:00</td>\n",
       "      <td>30.0</td>\n",
       "      <td>CCGT</td>\n",
       "      <td>20279.8</td>\n",
       "      <td>133.21</td>\n",
       "      <td>150887319.8</td>\n",
       "      <td>62357603.4</td>\n",
       "      <td>2.41971</td>\n",
       "      <td>2022</td>\n",
       "      <td>1</td>\n",
       "      <td>...</td>\n",
       "      <td>0</td>\n",
       "      <td>5</td>\n",
       "      <td>NaN</td>\n",
       "      <td>NaN</td>\n",
       "      <td>NaN</td>\n",
       "      <td>NaN</td>\n",
       "      <td>0.707578</td>\n",
       "      <td>213244953.2</td>\n",
       "      <td>non-renewable</td>\n",
       "      <td>continuous</td>\n",
       "    </tr>\n",
       "    <tr>\n",
       "      <th>1</th>\n",
       "      <td>2022-01-01 23:00:00+00:00</td>\n",
       "      <td>853.5</td>\n",
       "      <td>Coal</td>\n",
       "      <td>20279.8</td>\n",
       "      <td>133.21</td>\n",
       "      <td>150887319.8</td>\n",
       "      <td>62357603.4</td>\n",
       "      <td>2.41971</td>\n",
       "      <td>2022</td>\n",
       "      <td>1</td>\n",
       "      <td>...</td>\n",
       "      <td>0</td>\n",
       "      <td>5</td>\n",
       "      <td>NaN</td>\n",
       "      <td>NaN</td>\n",
       "      <td>NaN</td>\n",
       "      <td>133.21</td>\n",
       "      <td>0.707578</td>\n",
       "      <td>213245776.7</td>\n",
       "      <td>non-renewable</td>\n",
       "      <td>continuous</td>\n",
       "    </tr>\n",
       "    <tr>\n",
       "      <th>2</th>\n",
       "      <td>2022-01-01 23:00:00+00:00</td>\n",
       "      <td>2350.9</td>\n",
       "      <td>Hydro</td>\n",
       "      <td>20279.8</td>\n",
       "      <td>133.21</td>\n",
       "      <td>150887319.8</td>\n",
       "      <td>62357603.4</td>\n",
       "      <td>2.41971</td>\n",
       "      <td>2022</td>\n",
       "      <td>1</td>\n",
       "      <td>...</td>\n",
       "      <td>0</td>\n",
       "      <td>5</td>\n",
       "      <td>NaN</td>\n",
       "      <td>NaN</td>\n",
       "      <td>NaN</td>\n",
       "      <td>133.21</td>\n",
       "      <td>0.707578</td>\n",
       "      <td>213247274.1</td>\n",
       "      <td>non-renewable</td>\n",
       "      <td>continuous</td>\n",
       "    </tr>\n",
       "    <tr>\n",
       "      <th>3</th>\n",
       "      <td>2022-01-01 23:00:00+00:00</td>\n",
       "      <td>6087.8</td>\n",
       "      <td>Nuclear</td>\n",
       "      <td>20279.8</td>\n",
       "      <td>133.21</td>\n",
       "      <td>150887319.8</td>\n",
       "      <td>62357603.4</td>\n",
       "      <td>2.41971</td>\n",
       "      <td>2022</td>\n",
       "      <td>1</td>\n",
       "      <td>...</td>\n",
       "      <td>0</td>\n",
       "      <td>5</td>\n",
       "      <td>NaN</td>\n",
       "      <td>NaN</td>\n",
       "      <td>NaN</td>\n",
       "      <td>133.21</td>\n",
       "      <td>0.707578</td>\n",
       "      <td>213251011.0</td>\n",
       "      <td>non-renewable</td>\n",
       "      <td>continuous</td>\n",
       "    </tr>\n",
       "    <tr>\n",
       "      <th>4</th>\n",
       "      <td>2022-01-01 23:00:00+00:00</td>\n",
       "      <td>114.6</td>\n",
       "      <td>Solar PV</td>\n",
       "      <td>20279.8</td>\n",
       "      <td>133.21</td>\n",
       "      <td>150887319.8</td>\n",
       "      <td>62357603.4</td>\n",
       "      <td>2.41971</td>\n",
       "      <td>2022</td>\n",
       "      <td>1</td>\n",
       "      <td>...</td>\n",
       "      <td>0</td>\n",
       "      <td>5</td>\n",
       "      <td>NaN</td>\n",
       "      <td>NaN</td>\n",
       "      <td>NaN</td>\n",
       "      <td>133.21</td>\n",
       "      <td>0.707578</td>\n",
       "      <td>213245037.8</td>\n",
       "      <td>non-renewable</td>\n",
       "      <td>continuous</td>\n",
       "    </tr>\n",
       "    <tr>\n",
       "      <th>5</th>\n",
       "      <td>2022-01-01 23:00:00+00:00</td>\n",
       "      <td>16.0</td>\n",
       "      <td>Solar Th</td>\n",
       "      <td>20279.8</td>\n",
       "      <td>133.21</td>\n",
       "      <td>150887319.8</td>\n",
       "      <td>62357603.4</td>\n",
       "      <td>2.41971</td>\n",
       "      <td>2022</td>\n",
       "      <td>1</td>\n",
       "      <td>...</td>\n",
       "      <td>0</td>\n",
       "      <td>5</td>\n",
       "      <td>NaN</td>\n",
       "      <td>NaN</td>\n",
       "      <td>NaN</td>\n",
       "      <td>133.21</td>\n",
       "      <td>0.707578</td>\n",
       "      <td>213244939.2</td>\n",
       "      <td>non-renewable</td>\n",
       "      <td>continuous</td>\n",
       "    </tr>\n",
       "    <tr>\n",
       "      <th>6</th>\n",
       "      <td>2022-01-01 23:00:00+00:00</td>\n",
       "      <td>19695.3</td>\n",
       "      <td>Total</td>\n",
       "      <td>20279.8</td>\n",
       "      <td>133.21</td>\n",
       "      <td>150887319.8</td>\n",
       "      <td>62357603.4</td>\n",
       "      <td>2.41971</td>\n",
       "      <td>2022</td>\n",
       "      <td>1</td>\n",
       "      <td>...</td>\n",
       "      <td>0</td>\n",
       "      <td>5</td>\n",
       "      <td>4164.014286</td>\n",
       "      <td>20279.800000</td>\n",
       "      <td>133.210000</td>\n",
       "      <td>133.21</td>\n",
       "      <td>0.707578</td>\n",
       "      <td>213264618.5</td>\n",
       "      <td>non-renewable</td>\n",
       "      <td>continuous</td>\n",
       "    </tr>\n",
       "    <tr>\n",
       "      <th>7</th>\n",
       "      <td>2022-01-01 23:00:00+00:00</td>\n",
       "      <td>7179.0</td>\n",
       "      <td>Wind</td>\n",
       "      <td>20279.8</td>\n",
       "      <td>133.21</td>\n",
       "      <td>150887319.8</td>\n",
       "      <td>62357603.4</td>\n",
       "      <td>2.41971</td>\n",
       "      <td>2022</td>\n",
       "      <td>1</td>\n",
       "      <td>...</td>\n",
       "      <td>0</td>\n",
       "      <td>5</td>\n",
       "      <td>5185.300000</td>\n",
       "      <td>20279.800000</td>\n",
       "      <td>133.210000</td>\n",
       "      <td>133.21</td>\n",
       "      <td>0.707578</td>\n",
       "      <td>213252102.2</td>\n",
       "      <td>non-renewable</td>\n",
       "      <td>continuous</td>\n",
       "    </tr>\n",
       "    <tr>\n",
       "      <th>8</th>\n",
       "      <td>2022-01-02 05:00:00+00:00</td>\n",
       "      <td>200.0</td>\n",
       "      <td>CCGT</td>\n",
       "      <td>17456.9</td>\n",
       "      <td>115.87</td>\n",
       "      <td>150887319.8</td>\n",
       "      <td>62357603.4</td>\n",
       "      <td>2.41971</td>\n",
       "      <td>2022</td>\n",
       "      <td>1</td>\n",
       "      <td>...</td>\n",
       "      <td>0</td>\n",
       "      <td>6</td>\n",
       "      <td>5091.942857</td>\n",
       "      <td>19876.528571</td>\n",
       "      <td>130.732857</td>\n",
       "      <td>133.21</td>\n",
       "      <td>0.707578</td>\n",
       "      <td>213245123.2</td>\n",
       "      <td>non-renewable</td>\n",
       "      <td>continuous</td>\n",
       "    </tr>\n",
       "    <tr>\n",
       "      <th>9</th>\n",
       "      <td>2022-01-02 05:00:00+00:00</td>\n",
       "      <td>851.5</td>\n",
       "      <td>Coal</td>\n",
       "      <td>17456.9</td>\n",
       "      <td>115.87</td>\n",
       "      <td>150887319.8</td>\n",
       "      <td>62357603.4</td>\n",
       "      <td>2.41971</td>\n",
       "      <td>2022</td>\n",
       "      <td>1</td>\n",
       "      <td>...</td>\n",
       "      <td>0</td>\n",
       "      <td>6</td>\n",
       "      <td>4877.742857</td>\n",
       "      <td>19473.257143</td>\n",
       "      <td>128.255714</td>\n",
       "      <td>115.87</td>\n",
       "      <td>0.707578</td>\n",
       "      <td>213245774.7</td>\n",
       "      <td>non-renewable</td>\n",
       "      <td>continuous</td>\n",
       "    </tr>\n",
       "  </tbody>\n",
       "</table>\n",
       "<p>10 rows × 23 columns</p>\n",
       "</div>"
      ],
      "text/plain": [
       "               datetime_utc  gen_value  gen_type  dem_value  spot_price_value  \\\n",
       "0 2022-01-01 23:00:00+00:00       30.0      CCGT    20279.8            133.21   \n",
       "1 2022-01-01 23:00:00+00:00      853.5      Coal    20279.8            133.21   \n",
       "2 2022-01-01 23:00:00+00:00     2350.9     Hydro    20279.8            133.21   \n",
       "3 2022-01-01 23:00:00+00:00     6087.8   Nuclear    20279.8            133.21   \n",
       "4 2022-01-01 23:00:00+00:00      114.6  Solar PV    20279.8            133.21   \n",
       "5 2022-01-01 23:00:00+00:00       16.0  Solar Th    20279.8            133.21   \n",
       "6 2022-01-01 23:00:00+00:00    19695.3     Total    20279.8            133.21   \n",
       "7 2022-01-01 23:00:00+00:00     7179.0      Wind    20279.8            133.21   \n",
       "8 2022-01-02 05:00:00+00:00      200.0      CCGT    17456.9            115.87   \n",
       "9 2022-01-02 05:00:00+00:00      851.5      Coal    17456.9            115.87   \n",
       "\n",
       "   solar_wind_gen  coal_ccgt_gen  solar_wind_ccgt_ratio  year  month  ...  \\\n",
       "0     150887319.8     62357603.4                2.41971  2022      1  ...   \n",
       "1     150887319.8     62357603.4                2.41971  2022      1  ...   \n",
       "2     150887319.8     62357603.4                2.41971  2022      1  ...   \n",
       "3     150887319.8     62357603.4                2.41971  2022      1  ...   \n",
       "4     150887319.8     62357603.4                2.41971  2022      1  ...   \n",
       "5     150887319.8     62357603.4                2.41971  2022      1  ...   \n",
       "6     150887319.8     62357603.4                2.41971  2022      1  ...   \n",
       "7     150887319.8     62357603.4                2.41971  2022      1  ...   \n",
       "8     150887319.8     62357603.4                2.41971  2022      1  ...   \n",
       "9     150887319.8     62357603.4                2.41971  2022      1  ...   \n",
       "\n",
       "   second  day_of_week  gen_value_rolling_mean  dem_value_rolling_mean  \\\n",
       "0       0            5                     NaN                     NaN   \n",
       "1       0            5                     NaN                     NaN   \n",
       "2       0            5                     NaN                     NaN   \n",
       "3       0            5                     NaN                     NaN   \n",
       "4       0            5                     NaN                     NaN   \n",
       "5       0            5                     NaN                     NaN   \n",
       "6       0            5             4164.014286            20279.800000   \n",
       "7       0            5             5185.300000            20279.800000   \n",
       "8       0            6             5091.942857            19876.528571   \n",
       "9       0            6             4877.742857            19473.257143   \n",
       "\n",
       "   spot_price_value_rolling_mean  spot_price_lag_1  solar_wind_gen_ratio  \\\n",
       "0                            NaN               NaN              0.707578   \n",
       "1                            NaN            133.21              0.707578   \n",
       "2                            NaN            133.21              0.707578   \n",
       "3                            NaN            133.21              0.707578   \n",
       "4                            NaN            133.21              0.707578   \n",
       "5                            NaN            133.21              0.707578   \n",
       "6                     133.210000            133.21              0.707578   \n",
       "7                     133.210000            133.21              0.707578   \n",
       "8                     130.732857            133.21              0.707578   \n",
       "9                     128.255714            115.87              0.707578   \n",
       "\n",
       "   total_generation  technology_group  generation_pattern  \n",
       "0       213244953.2     non-renewable          continuous  \n",
       "1       213245776.7     non-renewable          continuous  \n",
       "2       213247274.1     non-renewable          continuous  \n",
       "3       213251011.0     non-renewable          continuous  \n",
       "4       213245037.8     non-renewable          continuous  \n",
       "5       213244939.2     non-renewable          continuous  \n",
       "6       213264618.5     non-renewable          continuous  \n",
       "7       213252102.2     non-renewable          continuous  \n",
       "8       213245123.2     non-renewable          continuous  \n",
       "9       213245774.7     non-renewable          continuous  \n",
       "\n",
       "[10 rows x 23 columns]"
      ]
     },
     "execution_count": 51,
     "metadata": {},
     "output_type": "execute_result"
    }
   ],
   "source": [
    "final_table.head(10)"
   ]
  },
  {
   "cell_type": "markdown",
   "id": "ad853f9e-4bfc-4511-ba23-c66aa358a419",
   "metadata": {},
   "source": [
    "New features correlation with the price:"
   ]
  },
  {
   "cell_type": "code",
   "execution_count": 54,
   "id": "aa81747e-ba48-4cf5-9359-a989ca085c75",
   "metadata": {},
   "outputs": [],
   "source": [
    "# Select the features you want to calculate correlations for\n",
    "features_to_correlate = [\n",
    "    'gen_value_rolling_mean',\n",
    "    'dem_value_rolling_mean',\n",
    "    'spot_price_value_rolling_mean',\n",
    "    'spot_price_lag_1',\n",
    "    'solar_wind_gen_ratio',\n",
    "    'total_generation'\n",
    "]\n",
    "\n",
    "# Calculate correlations for the selected features\n",
    "correlations = final_table[features_to_correlate].corrwith(final_table['spot_price_value'])"
   ]
  },
  {
   "cell_type": "code",
   "execution_count": 55,
   "id": "f8a92291-0e0d-493c-aaa7-7cdc4243c624",
   "metadata": {},
   "outputs": [
    {
     "data": {
      "text/plain": [
       "gen_value_rolling_mean          -2.775418e-01\n",
       "dem_value_rolling_mean           2.152153e-01\n",
       "spot_price_value_rolling_mean    9.927808e-01\n",
       "spot_price_lag_1                 9.961258e-01\n",
       "solar_wind_gen_ratio             1.670912e-16\n",
       "total_generation                -5.728643e-02\n",
       "dtype: float64"
      ]
     },
     "execution_count": 55,
     "metadata": {},
     "output_type": "execute_result"
    }
   ],
   "source": [
    "correlations"
   ]
  },
  {
   "cell_type": "markdown",
   "id": "cc447cc4-a063-4529-98ae-bcc530647446",
   "metadata": {},
   "source": [
    "## Machine Learning"
   ]
  },
  {
   "cell_type": "markdown",
   "id": "ae1bd8fa-89bf-4111-a640-19299278b13a",
   "metadata": {},
   "source": [
    "Let's begin with taking out the irrelevant variables, the ones we don't need to use for the model. For example, te gen_type variable, which I mentioned before the reasons why it would be too computational expensive for my computer to iterate with it. And other non relevant columns."
   ]
  },
  {
   "cell_type": "code",
   "execution_count": 57,
   "id": "3875a235-373b-4685-a34e-ac9acd9c9987",
   "metadata": {},
   "outputs": [
    {
     "data": {
      "text/html": [
       "<div>\n",
       "<style scoped>\n",
       "    .dataframe tbody tr th:only-of-type {\n",
       "        vertical-align: middle;\n",
       "    }\n",
       "\n",
       "    .dataframe tbody tr th {\n",
       "        vertical-align: top;\n",
       "    }\n",
       "\n",
       "    .dataframe thead th {\n",
       "        text-align: right;\n",
       "    }\n",
       "</style>\n",
       "<table border=\"1\" class=\"dataframe\">\n",
       "  <thead>\n",
       "    <tr style=\"text-align: right;\">\n",
       "      <th></th>\n",
       "      <th>datetime_utc</th>\n",
       "      <th>gen_value</th>\n",
       "      <th>gen_type</th>\n",
       "      <th>dem_value</th>\n",
       "      <th>spot_price_value</th>\n",
       "      <th>solar_wind_gen</th>\n",
       "      <th>coal_ccgt_gen</th>\n",
       "      <th>solar_wind_ccgt_ratio</th>\n",
       "      <th>year</th>\n",
       "      <th>month</th>\n",
       "      <th>...</th>\n",
       "      <th>second</th>\n",
       "      <th>day_of_week</th>\n",
       "      <th>gen_value_rolling_mean</th>\n",
       "      <th>dem_value_rolling_mean</th>\n",
       "      <th>spot_price_value_rolling_mean</th>\n",
       "      <th>spot_price_lag_1</th>\n",
       "      <th>solar_wind_gen_ratio</th>\n",
       "      <th>total_generation</th>\n",
       "      <th>technology_group</th>\n",
       "      <th>generation_pattern</th>\n",
       "    </tr>\n",
       "  </thead>\n",
       "  <tbody>\n",
       "    <tr>\n",
       "      <th>0</th>\n",
       "      <td>2022-01-01 23:00:00+00:00</td>\n",
       "      <td>30.0</td>\n",
       "      <td>CCGT</td>\n",
       "      <td>20279.8</td>\n",
       "      <td>133.21</td>\n",
       "      <td>150887319.8</td>\n",
       "      <td>62357603.4</td>\n",
       "      <td>2.41971</td>\n",
       "      <td>2022</td>\n",
       "      <td>1</td>\n",
       "      <td>...</td>\n",
       "      <td>0</td>\n",
       "      <td>5</td>\n",
       "      <td>NaN</td>\n",
       "      <td>NaN</td>\n",
       "      <td>NaN</td>\n",
       "      <td>NaN</td>\n",
       "      <td>0.707578</td>\n",
       "      <td>213244953.2</td>\n",
       "      <td>non-renewable</td>\n",
       "      <td>continuous</td>\n",
       "    </tr>\n",
       "  </tbody>\n",
       "</table>\n",
       "<p>1 rows × 23 columns</p>\n",
       "</div>"
      ],
      "text/plain": [
       "               datetime_utc  gen_value gen_type  dem_value  spot_price_value  \\\n",
       "0 2022-01-01 23:00:00+00:00       30.0     CCGT    20279.8            133.21   \n",
       "\n",
       "   solar_wind_gen  coal_ccgt_gen  solar_wind_ccgt_ratio  year  month  ...  \\\n",
       "0     150887319.8     62357603.4                2.41971  2022      1  ...   \n",
       "\n",
       "   second  day_of_week  gen_value_rolling_mean  dem_value_rolling_mean  \\\n",
       "0       0            5                     NaN                     NaN   \n",
       "\n",
       "   spot_price_value_rolling_mean  spot_price_lag_1  solar_wind_gen_ratio  \\\n",
       "0                            NaN               NaN              0.707578   \n",
       "\n",
       "   total_generation  technology_group  generation_pattern  \n",
       "0       213244953.2     non-renewable          continuous  \n",
       "\n",
       "[1 rows x 23 columns]"
      ]
     },
     "execution_count": 57,
     "metadata": {},
     "output_type": "execute_result"
    }
   ],
   "source": [
    "final_table.head(1)"
   ]
  },
  {
   "cell_type": "code",
   "execution_count": 58,
   "id": "dd6cff9c-5ebc-4b05-9934-42dea3f58266",
   "metadata": {},
   "outputs": [
    {
     "data": {
      "text/html": [
       "<div>\n",
       "<style scoped>\n",
       "    .dataframe tbody tr th:only-of-type {\n",
       "        vertical-align: middle;\n",
       "    }\n",
       "\n",
       "    .dataframe tbody tr th {\n",
       "        vertical-align: top;\n",
       "    }\n",
       "\n",
       "    .dataframe thead th {\n",
       "        text-align: right;\n",
       "    }\n",
       "</style>\n",
       "<table border=\"1\" class=\"dataframe\">\n",
       "  <thead>\n",
       "    <tr style=\"text-align: right;\">\n",
       "      <th></th>\n",
       "      <th>datetime_utc</th>\n",
       "      <th>gen_value</th>\n",
       "      <th>dem_value</th>\n",
       "      <th>spot_price_value</th>\n",
       "      <th>solar_wind_gen</th>\n",
       "      <th>coal_ccgt_gen</th>\n",
       "      <th>solar_wind_ccgt_ratio</th>\n",
       "      <th>gen_value_rolling_mean</th>\n",
       "      <th>dem_value_rolling_mean</th>\n",
       "      <th>spot_price_value_rolling_mean</th>\n",
       "      <th>spot_price_lag_1</th>\n",
       "      <th>solar_wind_gen_ratio</th>\n",
       "      <th>total_generation</th>\n",
       "    </tr>\n",
       "  </thead>\n",
       "  <tbody>\n",
       "    <tr>\n",
       "      <th>0</th>\n",
       "      <td>2022-01-01 23:00:00+00:00</td>\n",
       "      <td>30.0</td>\n",
       "      <td>20279.8</td>\n",
       "      <td>133.21</td>\n",
       "      <td>150887319.8</td>\n",
       "      <td>62357603.4</td>\n",
       "      <td>2.41971</td>\n",
       "      <td>NaN</td>\n",
       "      <td>NaN</td>\n",
       "      <td>NaN</td>\n",
       "      <td>NaN</td>\n",
       "      <td>0.707578</td>\n",
       "      <td>213244953.2</td>\n",
       "    </tr>\n",
       "  </tbody>\n",
       "</table>\n",
       "</div>"
      ],
      "text/plain": [
       "               datetime_utc  gen_value  dem_value  spot_price_value  \\\n",
       "0 2022-01-01 23:00:00+00:00       30.0    20279.8            133.21   \n",
       "\n",
       "   solar_wind_gen  coal_ccgt_gen  solar_wind_ccgt_ratio  \\\n",
       "0     150887319.8     62357603.4                2.41971   \n",
       "\n",
       "   gen_value_rolling_mean  dem_value_rolling_mean  \\\n",
       "0                     NaN                     NaN   \n",
       "\n",
       "   spot_price_value_rolling_mean  spot_price_lag_1  solar_wind_gen_ratio  \\\n",
       "0                            NaN               NaN              0.707578   \n",
       "\n",
       "   total_generation  \n",
       "0       213244953.2  "
      ]
     },
     "execution_count": 58,
     "metadata": {},
     "output_type": "execute_result"
    }
   ],
   "source": [
    "columns_to_drop = [\n",
    "    'gen_type',\n",
    "    'year',\n",
    "    'month',\n",
    "    'day',\n",
    "    'hour',\n",
    "    'minute',\n",
    "    'second',\n",
    "    'day_of_week',\n",
    "    'technology_group',\n",
    "    'generation_pattern'\n",
    "]\n",
    "\n",
    "final_table1 = final_table.drop(columns=columns_to_drop)\n",
    "final_table1.head(1)"
   ]
  },
  {
   "cell_type": "code",
   "execution_count": 61,
   "id": "0c8ada59-7e70-4189-bc2a-e8581e99fc5e",
   "metadata": {},
   "outputs": [
    {
     "data": {
      "text/plain": [
       "datetime_utc                     0.000000\n",
       "gen_value                        0.000000\n",
       "dem_value                        0.000000\n",
       "spot_price_value                 0.000000\n",
       "solar_wind_gen                   0.000000\n",
       "coal_ccgt_gen                    0.000000\n",
       "solar_wind_ccgt_ratio            0.000000\n",
       "gen_value_rolling_mean           0.000061\n",
       "dem_value_rolling_mean           0.000061\n",
       "spot_price_value_rolling_mean    0.000061\n",
       "spot_price_lag_1                 0.000010\n",
       "solar_wind_gen_ratio             0.000000\n",
       "total_generation                 0.000000\n",
       "dtype: float64"
      ]
     },
     "execution_count": 61,
     "metadata": {},
     "output_type": "execute_result"
    }
   ],
   "source": [
    "final_table1.isna().mean()"
   ]
  },
  {
   "cell_type": "markdown",
   "id": "a5150a36-352a-49bf-9060-684710e0604a",
   "metadata": {},
   "source": [
    "Analyzing the last days of the dataset in order to know how to split based on a timestamp"
   ]
  },
  {
   "cell_type": "code",
   "execution_count": 63,
   "id": "fedc6d6b-9989-4095-903b-59aff4c5296a",
   "metadata": {},
   "outputs": [
    {
     "data": {
      "text/html": [
       "<div>\n",
       "<style scoped>\n",
       "    .dataframe tbody tr th:only-of-type {\n",
       "        vertical-align: middle;\n",
       "    }\n",
       "\n",
       "    .dataframe tbody tr th {\n",
       "        vertical-align: top;\n",
       "    }\n",
       "\n",
       "    .dataframe thead th {\n",
       "        text-align: right;\n",
       "    }\n",
       "</style>\n",
       "<table border=\"1\" class=\"dataframe\">\n",
       "  <thead>\n",
       "    <tr style=\"text-align: right;\">\n",
       "      <th></th>\n",
       "      <th>datetime_utc</th>\n",
       "      <th>gen_value</th>\n",
       "      <th>dem_value</th>\n",
       "      <th>spot_price_value</th>\n",
       "      <th>solar_wind_gen</th>\n",
       "      <th>coal_ccgt_gen</th>\n",
       "      <th>solar_wind_ccgt_ratio</th>\n",
       "      <th>gen_value_rolling_mean</th>\n",
       "      <th>dem_value_rolling_mean</th>\n",
       "      <th>spot_price_value_rolling_mean</th>\n",
       "      <th>spot_price_lag_1</th>\n",
       "      <th>solar_wind_gen_ratio</th>\n",
       "      <th>total_generation</th>\n",
       "    </tr>\n",
       "  </thead>\n",
       "  <tbody>\n",
       "    <tr>\n",
       "      <th>98999</th>\n",
       "      <td>2023-07-30 12:00:00+00:00</td>\n",
       "      <td>975.4</td>\n",
       "      <td>27193.8</td>\n",
       "      <td>27.70</td>\n",
       "      <td>150887319.8</td>\n",
       "      <td>62357603.4</td>\n",
       "      <td>2.41971</td>\n",
       "      <td>8365.542857</td>\n",
       "      <td>26844.685714</td>\n",
       "      <td>25.385714</td>\n",
       "      <td>25.00</td>\n",
       "      <td>0.707578</td>\n",
       "      <td>213245898.6</td>\n",
       "    </tr>\n",
       "    <tr>\n",
       "      <th>99000</th>\n",
       "      <td>2023-07-30 12:00:00+00:00</td>\n",
       "      <td>6871.7</td>\n",
       "      <td>27193.8</td>\n",
       "      <td>27.70</td>\n",
       "      <td>150887319.8</td>\n",
       "      <td>62357603.4</td>\n",
       "      <td>2.41971</td>\n",
       "      <td>9207.985714</td>\n",
       "      <td>26902.871429</td>\n",
       "      <td>25.771429</td>\n",
       "      <td>27.70</td>\n",
       "      <td>0.707578</td>\n",
       "      <td>213251794.9</td>\n",
       "    </tr>\n",
       "    <tr>\n",
       "      <th>99001</th>\n",
       "      <td>2023-07-30 12:00:00+00:00</td>\n",
       "      <td>15812.8</td>\n",
       "      <td>27193.8</td>\n",
       "      <td>27.70</td>\n",
       "      <td>150887319.8</td>\n",
       "      <td>62357603.4</td>\n",
       "      <td>2.41971</td>\n",
       "      <td>10485.714286</td>\n",
       "      <td>26961.057143</td>\n",
       "      <td>26.157143</td>\n",
       "      <td>27.70</td>\n",
       "      <td>0.707578</td>\n",
       "      <td>213260736.0</td>\n",
       "    </tr>\n",
       "    <tr>\n",
       "      <th>99002</th>\n",
       "      <td>2023-07-30 12:00:00+00:00</td>\n",
       "      <td>2158.5</td>\n",
       "      <td>27193.8</td>\n",
       "      <td>27.70</td>\n",
       "      <td>150887319.8</td>\n",
       "      <td>62357603.4</td>\n",
       "      <td>2.41971</td>\n",
       "      <td>8543.100000</td>\n",
       "      <td>27019.242857</td>\n",
       "      <td>26.542857</td>\n",
       "      <td>27.70</td>\n",
       "      <td>0.707578</td>\n",
       "      <td>213247081.7</td>\n",
       "    </tr>\n",
       "    <tr>\n",
       "      <th>99003</th>\n",
       "      <td>2023-07-30 12:00:00+00:00</td>\n",
       "      <td>30316.8</td>\n",
       "      <td>27193.8</td>\n",
       "      <td>27.70</td>\n",
       "      <td>150887319.8</td>\n",
       "      <td>62357603.4</td>\n",
       "      <td>2.41971</td>\n",
       "      <td>12566.057143</td>\n",
       "      <td>27077.428571</td>\n",
       "      <td>26.928571</td>\n",
       "      <td>27.70</td>\n",
       "      <td>0.707578</td>\n",
       "      <td>213275240.0</td>\n",
       "    </tr>\n",
       "    <tr>\n",
       "      <th>99004</th>\n",
       "      <td>2023-07-30 12:00:00+00:00</td>\n",
       "      <td>2129.4</td>\n",
       "      <td>27193.8</td>\n",
       "      <td>27.70</td>\n",
       "      <td>150887319.8</td>\n",
       "      <td>62357603.4</td>\n",
       "      <td>2.41971</td>\n",
       "      <td>8587.871429</td>\n",
       "      <td>27135.614286</td>\n",
       "      <td>27.314286</td>\n",
       "      <td>27.70</td>\n",
       "      <td>0.707578</td>\n",
       "      <td>213247052.6</td>\n",
       "    </tr>\n",
       "    <tr>\n",
       "      <th>99005</th>\n",
       "      <td>2023-07-30 13:00:00+00:00</td>\n",
       "      <td>1052.3</td>\n",
       "      <td>26887.7</td>\n",
       "      <td>25.00</td>\n",
       "      <td>150887319.8</td>\n",
       "      <td>62357603.4</td>\n",
       "      <td>2.41971</td>\n",
       "      <td>8473.842857</td>\n",
       "      <td>27150.071429</td>\n",
       "      <td>27.314286</td>\n",
       "      <td>27.70</td>\n",
       "      <td>0.707578</td>\n",
       "      <td>213245975.5</td>\n",
       "    </tr>\n",
       "    <tr>\n",
       "      <th>99006</th>\n",
       "      <td>2023-07-30 13:00:00+00:00</td>\n",
       "      <td>6868.7</td>\n",
       "      <td>26887.7</td>\n",
       "      <td>25.00</td>\n",
       "      <td>150887319.8</td>\n",
       "      <td>62357603.4</td>\n",
       "      <td>2.41971</td>\n",
       "      <td>9315.742857</td>\n",
       "      <td>27106.342857</td>\n",
       "      <td>26.928571</td>\n",
       "      <td>25.00</td>\n",
       "      <td>0.707578</td>\n",
       "      <td>213251791.9</td>\n",
       "    </tr>\n",
       "    <tr>\n",
       "      <th>99007</th>\n",
       "      <td>2023-07-30 13:00:00+00:00</td>\n",
       "      <td>15068.3</td>\n",
       "      <td>26887.7</td>\n",
       "      <td>25.00</td>\n",
       "      <td>150887319.8</td>\n",
       "      <td>62357603.4</td>\n",
       "      <td>2.41971</td>\n",
       "      <td>10486.685714</td>\n",
       "      <td>27062.614286</td>\n",
       "      <td>26.542857</td>\n",
       "      <td>25.00</td>\n",
       "      <td>0.707578</td>\n",
       "      <td>213259991.5</td>\n",
       "    </tr>\n",
       "    <tr>\n",
       "      <th>99008</th>\n",
       "      <td>2023-07-30 13:00:00+00:00</td>\n",
       "      <td>2156.9</td>\n",
       "      <td>26887.7</td>\n",
       "      <td>25.00</td>\n",
       "      <td>150887319.8</td>\n",
       "      <td>62357603.4</td>\n",
       "      <td>2.41971</td>\n",
       "      <td>8535.842857</td>\n",
       "      <td>27018.885714</td>\n",
       "      <td>26.157143</td>\n",
       "      <td>25.00</td>\n",
       "      <td>0.707578</td>\n",
       "      <td>213247080.1</td>\n",
       "    </tr>\n",
       "    <tr>\n",
       "      <th>99009</th>\n",
       "      <td>2023-07-30 13:00:00+00:00</td>\n",
       "      <td>30123.9</td>\n",
       "      <td>26887.7</td>\n",
       "      <td>25.00</td>\n",
       "      <td>150887319.8</td>\n",
       "      <td>62357603.4</td>\n",
       "      <td>2.41971</td>\n",
       "      <td>12530.900000</td>\n",
       "      <td>26975.157143</td>\n",
       "      <td>25.771429</td>\n",
       "      <td>25.00</td>\n",
       "      <td>0.707578</td>\n",
       "      <td>213275047.1</td>\n",
       "    </tr>\n",
       "    <tr>\n",
       "      <th>99010</th>\n",
       "      <td>2023-07-30 13:00:00+00:00</td>\n",
       "      <td>2612.1</td>\n",
       "      <td>26887.7</td>\n",
       "      <td>25.00</td>\n",
       "      <td>150887319.8</td>\n",
       "      <td>62357603.4</td>\n",
       "      <td>2.41971</td>\n",
       "      <td>8573.085714</td>\n",
       "      <td>26931.428571</td>\n",
       "      <td>25.385714</td>\n",
       "      <td>25.00</td>\n",
       "      <td>0.707578</td>\n",
       "      <td>213247535.3</td>\n",
       "    </tr>\n",
       "    <tr>\n",
       "      <th>99011</th>\n",
       "      <td>2023-07-30 14:00:00+00:00</td>\n",
       "      <td>1029.0</td>\n",
       "      <td>26599.6</td>\n",
       "      <td>15.10</td>\n",
       "      <td>150887319.8</td>\n",
       "      <td>62357603.4</td>\n",
       "      <td>2.41971</td>\n",
       "      <td>8415.885714</td>\n",
       "      <td>26846.542857</td>\n",
       "      <td>23.585714</td>\n",
       "      <td>25.00</td>\n",
       "      <td>0.707578</td>\n",
       "      <td>213245952.2</td>\n",
       "    </tr>\n",
       "    <tr>\n",
       "      <th>99012</th>\n",
       "      <td>2023-07-30 14:00:00+00:00</td>\n",
       "      <td>6867.7</td>\n",
       "      <td>26599.6</td>\n",
       "      <td>15.10</td>\n",
       "      <td>150887319.8</td>\n",
       "      <td>62357603.4</td>\n",
       "      <td>2.41971</td>\n",
       "      <td>9246.657143</td>\n",
       "      <td>26805.385714</td>\n",
       "      <td>22.171429</td>\n",
       "      <td>15.10</td>\n",
       "      <td>0.707578</td>\n",
       "      <td>213251790.9</td>\n",
       "    </tr>\n",
       "    <tr>\n",
       "      <th>99013</th>\n",
       "      <td>2023-07-30 14:00:00+00:00</td>\n",
       "      <td>14292.6</td>\n",
       "      <td>26599.6</td>\n",
       "      <td>15.10</td>\n",
       "      <td>150887319.8</td>\n",
       "      <td>62357603.4</td>\n",
       "      <td>2.41971</td>\n",
       "      <td>10307.214286</td>\n",
       "      <td>26764.228571</td>\n",
       "      <td>20.757143</td>\n",
       "      <td>15.10</td>\n",
       "      <td>0.707578</td>\n",
       "      <td>213259215.8</td>\n",
       "    </tr>\n",
       "    <tr>\n",
       "      <th>99014</th>\n",
       "      <td>2023-07-30 14:00:00+00:00</td>\n",
       "      <td>2153.5</td>\n",
       "      <td>26599.6</td>\n",
       "      <td>15.10</td>\n",
       "      <td>150887319.8</td>\n",
       "      <td>62357603.4</td>\n",
       "      <td>2.41971</td>\n",
       "      <td>8462.242857</td>\n",
       "      <td>26723.071429</td>\n",
       "      <td>19.342857</td>\n",
       "      <td>15.10</td>\n",
       "      <td>0.707578</td>\n",
       "      <td>213247076.7</td>\n",
       "    </tr>\n",
       "    <tr>\n",
       "      <th>99015</th>\n",
       "      <td>2023-07-30 14:00:00+00:00</td>\n",
       "      <td>29994.8</td>\n",
       "      <td>26599.6</td>\n",
       "      <td>15.10</td>\n",
       "      <td>150887319.8</td>\n",
       "      <td>62357603.4</td>\n",
       "      <td>2.41971</td>\n",
       "      <td>12439.085714</td>\n",
       "      <td>26681.914286</td>\n",
       "      <td>17.928571</td>\n",
       "      <td>15.10</td>\n",
       "      <td>0.707578</td>\n",
       "      <td>213274918.0</td>\n",
       "    </tr>\n",
       "    <tr>\n",
       "      <th>99016</th>\n",
       "      <td>2023-07-30 14:00:00+00:00</td>\n",
       "      <td>3287.3</td>\n",
       "      <td>26599.6</td>\n",
       "      <td>15.10</td>\n",
       "      <td>150887319.8</td>\n",
       "      <td>62357603.4</td>\n",
       "      <td>2.41971</td>\n",
       "      <td>8605.285714</td>\n",
       "      <td>26640.757143</td>\n",
       "      <td>16.514286</td>\n",
       "      <td>15.10</td>\n",
       "      <td>0.707578</td>\n",
       "      <td>213248210.5</td>\n",
       "    </tr>\n",
       "    <tr>\n",
       "      <th>99017</th>\n",
       "      <td>2023-07-30 15:00:00+00:00</td>\n",
       "      <td>1014.8</td>\n",
       "      <td>26468.7</td>\n",
       "      <td>20.25</td>\n",
       "      <td>150887319.8</td>\n",
       "      <td>62357603.4</td>\n",
       "      <td>2.41971</td>\n",
       "      <td>8377.100000</td>\n",
       "      <td>26580.900000</td>\n",
       "      <td>15.835714</td>\n",
       "      <td>15.10</td>\n",
       "      <td>0.707578</td>\n",
       "      <td>213245938.0</td>\n",
       "    </tr>\n",
       "    <tr>\n",
       "      <th>99018</th>\n",
       "      <td>2023-07-30 15:00:00+00:00</td>\n",
       "      <td>6872.7</td>\n",
       "      <td>26468.7</td>\n",
       "      <td>20.25</td>\n",
       "      <td>150887319.8</td>\n",
       "      <td>62357603.4</td>\n",
       "      <td>2.41971</td>\n",
       "      <td>9211.914286</td>\n",
       "      <td>26562.200000</td>\n",
       "      <td>16.571429</td>\n",
       "      <td>20.25</td>\n",
       "      <td>0.707578</td>\n",
       "      <td>213251795.9</td>\n",
       "    </tr>\n",
       "    <tr>\n",
       "      <th>99019</th>\n",
       "      <td>2023-07-30 15:00:00+00:00</td>\n",
       "      <td>13338.4</td>\n",
       "      <td>26468.7</td>\n",
       "      <td>20.25</td>\n",
       "      <td>150887319.8</td>\n",
       "      <td>62357603.4</td>\n",
       "      <td>2.41971</td>\n",
       "      <td>10136.300000</td>\n",
       "      <td>26543.500000</td>\n",
       "      <td>17.307143</td>\n",
       "      <td>20.25</td>\n",
       "      <td>0.707578</td>\n",
       "      <td>213258261.6</td>\n",
       "    </tr>\n",
       "    <tr>\n",
       "      <th>99020</th>\n",
       "      <td>2023-07-30 15:00:00+00:00</td>\n",
       "      <td>2149.0</td>\n",
       "      <td>26468.7</td>\n",
       "      <td>20.25</td>\n",
       "      <td>150887319.8</td>\n",
       "      <td>62357603.4</td>\n",
       "      <td>2.41971</td>\n",
       "      <td>8401.500000</td>\n",
       "      <td>26524.800000</td>\n",
       "      <td>18.042857</td>\n",
       "      <td>20.25</td>\n",
       "      <td>0.707578</td>\n",
       "      <td>213247072.2</td>\n",
       "    </tr>\n",
       "    <tr>\n",
       "      <th>99021</th>\n",
       "      <td>2023-07-30 15:00:00+00:00</td>\n",
       "      <td>29870.7</td>\n",
       "      <td>26468.7</td>\n",
       "      <td>20.25</td>\n",
       "      <td>150887319.8</td>\n",
       "      <td>62357603.4</td>\n",
       "      <td>2.41971</td>\n",
       "      <td>12361.100000</td>\n",
       "      <td>26506.100000</td>\n",
       "      <td>18.778571</td>\n",
       "      <td>20.25</td>\n",
       "      <td>0.707578</td>\n",
       "      <td>213274793.9</td>\n",
       "    </tr>\n",
       "    <tr>\n",
       "      <th>99022</th>\n",
       "      <td>2023-07-30 15:00:00+00:00</td>\n",
       "      <td>4123.6</td>\n",
       "      <td>26468.7</td>\n",
       "      <td>20.25</td>\n",
       "      <td>150887319.8</td>\n",
       "      <td>62357603.4</td>\n",
       "      <td>2.41971</td>\n",
       "      <td>8665.214286</td>\n",
       "      <td>26487.400000</td>\n",
       "      <td>19.514286</td>\n",
       "      <td>20.25</td>\n",
       "      <td>0.707578</td>\n",
       "      <td>213249046.8</td>\n",
       "    </tr>\n",
       "    <tr>\n",
       "      <th>99023</th>\n",
       "      <td>2023-07-30 16:00:00+00:00</td>\n",
       "      <td>981.1</td>\n",
       "      <td>26725.9</td>\n",
       "      <td>42.65</td>\n",
       "      <td>150887319.8</td>\n",
       "      <td>62357603.4</td>\n",
       "      <td>2.41971</td>\n",
       "      <td>8335.757143</td>\n",
       "      <td>26505.442857</td>\n",
       "      <td>23.450000</td>\n",
       "      <td>20.25</td>\n",
       "      <td>0.707578</td>\n",
       "      <td>213245904.3</td>\n",
       "    </tr>\n",
       "    <tr>\n",
       "      <th>99024</th>\n",
       "      <td>2023-07-30 16:00:00+00:00</td>\n",
       "      <td>6876.7</td>\n",
       "      <td>26725.9</td>\n",
       "      <td>42.65</td>\n",
       "      <td>150887319.8</td>\n",
       "      <td>62357603.4</td>\n",
       "      <td>2.41971</td>\n",
       "      <td>9173.171429</td>\n",
       "      <td>26542.185714</td>\n",
       "      <td>26.650000</td>\n",
       "      <td>42.65</td>\n",
       "      <td>0.707578</td>\n",
       "      <td>213251799.9</td>\n",
       "    </tr>\n",
       "    <tr>\n",
       "      <th>99025</th>\n",
       "      <td>2023-07-30 16:00:00+00:00</td>\n",
       "      <td>12598.8</td>\n",
       "      <td>26725.9</td>\n",
       "      <td>42.65</td>\n",
       "      <td>150887319.8</td>\n",
       "      <td>62357603.4</td>\n",
       "      <td>2.41971</td>\n",
       "      <td>9991.185714</td>\n",
       "      <td>26578.928571</td>\n",
       "      <td>29.850000</td>\n",
       "      <td>42.65</td>\n",
       "      <td>0.707578</td>\n",
       "      <td>213257522.0</td>\n",
       "    </tr>\n",
       "    <tr>\n",
       "      <th>99026</th>\n",
       "      <td>2023-07-30 16:00:00+00:00</td>\n",
       "      <td>2137.8</td>\n",
       "      <td>26725.9</td>\n",
       "      <td>42.65</td>\n",
       "      <td>150887319.8</td>\n",
       "      <td>62357603.4</td>\n",
       "      <td>2.41971</td>\n",
       "      <td>8391.100000</td>\n",
       "      <td>26615.671429</td>\n",
       "      <td>33.050000</td>\n",
       "      <td>42.65</td>\n",
       "      <td>0.707578</td>\n",
       "      <td>213247061.0</td>\n",
       "    </tr>\n",
       "    <tr>\n",
       "      <th>99027</th>\n",
       "      <td>2023-07-30 16:00:00+00:00</td>\n",
       "      <td>30182.6</td>\n",
       "      <td>26725.9</td>\n",
       "      <td>42.65</td>\n",
       "      <td>150887319.8</td>\n",
       "      <td>62357603.4</td>\n",
       "      <td>2.41971</td>\n",
       "      <td>12395.900000</td>\n",
       "      <td>26652.414286</td>\n",
       "      <td>36.250000</td>\n",
       "      <td>42.65</td>\n",
       "      <td>0.707578</td>\n",
       "      <td>213275105.8</td>\n",
       "    </tr>\n",
       "    <tr>\n",
       "      <th>99028</th>\n",
       "      <td>2023-07-30 16:00:00+00:00</td>\n",
       "      <td>5032.8</td>\n",
       "      <td>26725.9</td>\n",
       "      <td>42.65</td>\n",
       "      <td>150887319.8</td>\n",
       "      <td>62357603.4</td>\n",
       "      <td>2.41971</td>\n",
       "      <td>8847.628571</td>\n",
       "      <td>26689.157143</td>\n",
       "      <td>39.450000</td>\n",
       "      <td>42.65</td>\n",
       "      <td>0.707578</td>\n",
       "      <td>213249956.0</td>\n",
       "    </tr>\n",
       "  </tbody>\n",
       "</table>\n",
       "</div>"
      ],
      "text/plain": [
       "                   datetime_utc  gen_value  dem_value  spot_price_value  \\\n",
       "98999 2023-07-30 12:00:00+00:00      975.4    27193.8             27.70   \n",
       "99000 2023-07-30 12:00:00+00:00     6871.7    27193.8             27.70   \n",
       "99001 2023-07-30 12:00:00+00:00    15812.8    27193.8             27.70   \n",
       "99002 2023-07-30 12:00:00+00:00     2158.5    27193.8             27.70   \n",
       "99003 2023-07-30 12:00:00+00:00    30316.8    27193.8             27.70   \n",
       "99004 2023-07-30 12:00:00+00:00     2129.4    27193.8             27.70   \n",
       "99005 2023-07-30 13:00:00+00:00     1052.3    26887.7             25.00   \n",
       "99006 2023-07-30 13:00:00+00:00     6868.7    26887.7             25.00   \n",
       "99007 2023-07-30 13:00:00+00:00    15068.3    26887.7             25.00   \n",
       "99008 2023-07-30 13:00:00+00:00     2156.9    26887.7             25.00   \n",
       "99009 2023-07-30 13:00:00+00:00    30123.9    26887.7             25.00   \n",
       "99010 2023-07-30 13:00:00+00:00     2612.1    26887.7             25.00   \n",
       "99011 2023-07-30 14:00:00+00:00     1029.0    26599.6             15.10   \n",
       "99012 2023-07-30 14:00:00+00:00     6867.7    26599.6             15.10   \n",
       "99013 2023-07-30 14:00:00+00:00    14292.6    26599.6             15.10   \n",
       "99014 2023-07-30 14:00:00+00:00     2153.5    26599.6             15.10   \n",
       "99015 2023-07-30 14:00:00+00:00    29994.8    26599.6             15.10   \n",
       "99016 2023-07-30 14:00:00+00:00     3287.3    26599.6             15.10   \n",
       "99017 2023-07-30 15:00:00+00:00     1014.8    26468.7             20.25   \n",
       "99018 2023-07-30 15:00:00+00:00     6872.7    26468.7             20.25   \n",
       "99019 2023-07-30 15:00:00+00:00    13338.4    26468.7             20.25   \n",
       "99020 2023-07-30 15:00:00+00:00     2149.0    26468.7             20.25   \n",
       "99021 2023-07-30 15:00:00+00:00    29870.7    26468.7             20.25   \n",
       "99022 2023-07-30 15:00:00+00:00     4123.6    26468.7             20.25   \n",
       "99023 2023-07-30 16:00:00+00:00      981.1    26725.9             42.65   \n",
       "99024 2023-07-30 16:00:00+00:00     6876.7    26725.9             42.65   \n",
       "99025 2023-07-30 16:00:00+00:00    12598.8    26725.9             42.65   \n",
       "99026 2023-07-30 16:00:00+00:00     2137.8    26725.9             42.65   \n",
       "99027 2023-07-30 16:00:00+00:00    30182.6    26725.9             42.65   \n",
       "99028 2023-07-30 16:00:00+00:00     5032.8    26725.9             42.65   \n",
       "\n",
       "       solar_wind_gen  coal_ccgt_gen  solar_wind_ccgt_ratio  \\\n",
       "98999     150887319.8     62357603.4                2.41971   \n",
       "99000     150887319.8     62357603.4                2.41971   \n",
       "99001     150887319.8     62357603.4                2.41971   \n",
       "99002     150887319.8     62357603.4                2.41971   \n",
       "99003     150887319.8     62357603.4                2.41971   \n",
       "99004     150887319.8     62357603.4                2.41971   \n",
       "99005     150887319.8     62357603.4                2.41971   \n",
       "99006     150887319.8     62357603.4                2.41971   \n",
       "99007     150887319.8     62357603.4                2.41971   \n",
       "99008     150887319.8     62357603.4                2.41971   \n",
       "99009     150887319.8     62357603.4                2.41971   \n",
       "99010     150887319.8     62357603.4                2.41971   \n",
       "99011     150887319.8     62357603.4                2.41971   \n",
       "99012     150887319.8     62357603.4                2.41971   \n",
       "99013     150887319.8     62357603.4                2.41971   \n",
       "99014     150887319.8     62357603.4                2.41971   \n",
       "99015     150887319.8     62357603.4                2.41971   \n",
       "99016     150887319.8     62357603.4                2.41971   \n",
       "99017     150887319.8     62357603.4                2.41971   \n",
       "99018     150887319.8     62357603.4                2.41971   \n",
       "99019     150887319.8     62357603.4                2.41971   \n",
       "99020     150887319.8     62357603.4                2.41971   \n",
       "99021     150887319.8     62357603.4                2.41971   \n",
       "99022     150887319.8     62357603.4                2.41971   \n",
       "99023     150887319.8     62357603.4                2.41971   \n",
       "99024     150887319.8     62357603.4                2.41971   \n",
       "99025     150887319.8     62357603.4                2.41971   \n",
       "99026     150887319.8     62357603.4                2.41971   \n",
       "99027     150887319.8     62357603.4                2.41971   \n",
       "99028     150887319.8     62357603.4                2.41971   \n",
       "\n",
       "       gen_value_rolling_mean  dem_value_rolling_mean  \\\n",
       "98999             8365.542857            26844.685714   \n",
       "99000             9207.985714            26902.871429   \n",
       "99001            10485.714286            26961.057143   \n",
       "99002             8543.100000            27019.242857   \n",
       "99003            12566.057143            27077.428571   \n",
       "99004             8587.871429            27135.614286   \n",
       "99005             8473.842857            27150.071429   \n",
       "99006             9315.742857            27106.342857   \n",
       "99007            10486.685714            27062.614286   \n",
       "99008             8535.842857            27018.885714   \n",
       "99009            12530.900000            26975.157143   \n",
       "99010             8573.085714            26931.428571   \n",
       "99011             8415.885714            26846.542857   \n",
       "99012             9246.657143            26805.385714   \n",
       "99013            10307.214286            26764.228571   \n",
       "99014             8462.242857            26723.071429   \n",
       "99015            12439.085714            26681.914286   \n",
       "99016             8605.285714            26640.757143   \n",
       "99017             8377.100000            26580.900000   \n",
       "99018             9211.914286            26562.200000   \n",
       "99019            10136.300000            26543.500000   \n",
       "99020             8401.500000            26524.800000   \n",
       "99021            12361.100000            26506.100000   \n",
       "99022             8665.214286            26487.400000   \n",
       "99023             8335.757143            26505.442857   \n",
       "99024             9173.171429            26542.185714   \n",
       "99025             9991.185714            26578.928571   \n",
       "99026             8391.100000            26615.671429   \n",
       "99027            12395.900000            26652.414286   \n",
       "99028             8847.628571            26689.157143   \n",
       "\n",
       "       spot_price_value_rolling_mean  spot_price_lag_1  solar_wind_gen_ratio  \\\n",
       "98999                      25.385714             25.00              0.707578   \n",
       "99000                      25.771429             27.70              0.707578   \n",
       "99001                      26.157143             27.70              0.707578   \n",
       "99002                      26.542857             27.70              0.707578   \n",
       "99003                      26.928571             27.70              0.707578   \n",
       "99004                      27.314286             27.70              0.707578   \n",
       "99005                      27.314286             27.70              0.707578   \n",
       "99006                      26.928571             25.00              0.707578   \n",
       "99007                      26.542857             25.00              0.707578   \n",
       "99008                      26.157143             25.00              0.707578   \n",
       "99009                      25.771429             25.00              0.707578   \n",
       "99010                      25.385714             25.00              0.707578   \n",
       "99011                      23.585714             25.00              0.707578   \n",
       "99012                      22.171429             15.10              0.707578   \n",
       "99013                      20.757143             15.10              0.707578   \n",
       "99014                      19.342857             15.10              0.707578   \n",
       "99015                      17.928571             15.10              0.707578   \n",
       "99016                      16.514286             15.10              0.707578   \n",
       "99017                      15.835714             15.10              0.707578   \n",
       "99018                      16.571429             20.25              0.707578   \n",
       "99019                      17.307143             20.25              0.707578   \n",
       "99020                      18.042857             20.25              0.707578   \n",
       "99021                      18.778571             20.25              0.707578   \n",
       "99022                      19.514286             20.25              0.707578   \n",
       "99023                      23.450000             20.25              0.707578   \n",
       "99024                      26.650000             42.65              0.707578   \n",
       "99025                      29.850000             42.65              0.707578   \n",
       "99026                      33.050000             42.65              0.707578   \n",
       "99027                      36.250000             42.65              0.707578   \n",
       "99028                      39.450000             42.65              0.707578   \n",
       "\n",
       "       total_generation  \n",
       "98999       213245898.6  \n",
       "99000       213251794.9  \n",
       "99001       213260736.0  \n",
       "99002       213247081.7  \n",
       "99003       213275240.0  \n",
       "99004       213247052.6  \n",
       "99005       213245975.5  \n",
       "99006       213251791.9  \n",
       "99007       213259991.5  \n",
       "99008       213247080.1  \n",
       "99009       213275047.1  \n",
       "99010       213247535.3  \n",
       "99011       213245952.2  \n",
       "99012       213251790.9  \n",
       "99013       213259215.8  \n",
       "99014       213247076.7  \n",
       "99015       213274918.0  \n",
       "99016       213248210.5  \n",
       "99017       213245938.0  \n",
       "99018       213251795.9  \n",
       "99019       213258261.6  \n",
       "99020       213247072.2  \n",
       "99021       213274793.9  \n",
       "99022       213249046.8  \n",
       "99023       213245904.3  \n",
       "99024       213251799.9  \n",
       "99025       213257522.0  \n",
       "99026       213247061.0  \n",
       "99027       213275105.8  \n",
       "99028       213249956.0  "
      ]
     },
     "execution_count": 63,
     "metadata": {},
     "output_type": "execute_result"
    }
   ],
   "source": [
    "final_table1.tail(30)"
   ]
  },
  {
   "cell_type": "code",
   "execution_count": 70,
   "id": "569c196c-ab4e-4f67-a441-24897013d798",
   "metadata": {},
   "outputs": [
    {
     "data": {
      "text/plain": [
       "<DatetimeArray>\n",
       "['2022-01-01 23:00:00+00:00', '2022-01-02 05:00:00+00:00',\n",
       " '2022-01-02 06:00:00+00:00', '2022-01-02 07:00:00+00:00',\n",
       " '2022-01-02 08:00:00+00:00', '2022-01-02 09:00:00+00:00',\n",
       " '2022-01-02 10:00:00+00:00', '2022-01-02 11:00:00+00:00',\n",
       " '2022-01-02 12:00:00+00:00', '2022-01-02 13:00:00+00:00',\n",
       " ...\n",
       " '2023-07-23 13:00:00+00:00', '2023-07-23 14:00:00+00:00',\n",
       " '2023-07-30 09:00:00+00:00', '2023-07-30 10:00:00+00:00',\n",
       " '2023-07-30 11:00:00+00:00', '2023-07-30 12:00:00+00:00',\n",
       " '2023-07-30 13:00:00+00:00', '2023-07-30 14:00:00+00:00',\n",
       " '2023-07-30 15:00:00+00:00', '2023-07-30 16:00:00+00:00']\n",
       "Length: 13409, dtype: datetime64[ns, UTC]"
      ]
     },
     "execution_count": 70,
     "metadata": {},
     "output_type": "execute_result"
    }
   ],
   "source": [
    "final_table1['datetime_utc'].unique()"
   ]
  },
  {
   "cell_type": "markdown",
   "id": "ba3d3588-297c-4d77-bb5b-cf182535625b",
   "metadata": {},
   "source": [
    "I have two ideass on how to split the data, using the last 30 days for the test set, but that would mean having a lot of data left out. Having the last year for the test set, thus using 2 years for train and 1 year for test. I'm going to use the last 30 days of the dataset for the test data, since we have houry granularity, there are enough vallues to make a good prediction on them."
   ]
  },
  {
   "cell_type": "markdown",
   "id": "ff0fad98-b896-40be-bc00-9a11dd7ee379",
   "metadata": {},
   "source": [
    "## Creating a subset of future data\n",
    "Save the 24h of the last available day as your \"future data\" (subset of the called )"
   ]
  },
  {
   "cell_type": "code",
   "execution_count": 75,
   "id": "e3bac86e-46f2-4891-870d-8d341751a89b",
   "metadata": {},
   "outputs": [],
   "source": [
    "import pandas as pd\n",
    "\n",
    "# Determine the last available day in your dataset\n",
    "last_day = final_table['datetime_utc'].max().date()\n",
    "\n",
    "# Calculate the starting and ending timestamps for the last 24 hours\n",
    "end_timestamp = pd.to_datetime(f\"{last_day} 23:59:59\", utc=True)\n",
    "start_timestamp = end_timestamp - pd.DateOffset(hours=23)\n",
    "\n",
    "# Extract the data for the last 24 hours\n",
    "future_data = final_table[(final_table['datetime_utc'] >= start_timestamp) & (final_table['datetime_utc'] <= end_timestamp)]\n",
    "\n",
    "# Save this data as a subset or a separate dataset for future evaluation\n",
    "future_data.to_csv('future_data.csv', index=False)"
   ]
  },
  {
   "cell_type": "code",
   "execution_count": 78,
   "id": "b08ddfdf-ef00-4d38-9020-8d0d57ad885a",
   "metadata": {},
   "outputs": [
    {
     "data": {
      "text/plain": [
       "array([ 1,  2,  3,  4,  5,  6,  7,  8, 17, 18, 19, 20, 21, 22,  9, 10, 11,\n",
       "       12, 13, 14, 15, 16], dtype=int32)"
      ]
     },
     "execution_count": 78,
     "metadata": {},
     "output_type": "execute_result"
    }
   ],
   "source": [
    "future_data['hour'].unique()"
   ]
  },
  {
   "cell_type": "code",
   "execution_count": 74,
   "id": "9d440bb3-d477-4534-b829-5af6bd6a5a9b",
   "metadata": {
    "tags": []
   },
   "outputs": [],
   "source": [
    "#pip install xgboost"
   ]
  },
  {
   "cell_type": "code",
   "execution_count": 86,
   "id": "7e1b5f00-7988-41bc-8e4b-6b7dbe3df2bd",
   "metadata": {},
   "outputs": [
    {
     "data": {
      "text/plain": [
       "datetime_utc                     datetime64[ns, UTC]\n",
       "gen_value                                    float64\n",
       "dem_value                                    float64\n",
       "spot_price_value                             float64\n",
       "solar_wind_gen                               float64\n",
       "coal_ccgt_gen                                float64\n",
       "solar_wind_ccgt_ratio                        float64\n",
       "gen_value_rolling_mean                       float64\n",
       "dem_value_rolling_mean                       float64\n",
       "spot_price_value_rolling_mean                float64\n",
       "spot_price_lag_1                             float64\n",
       "solar_wind_gen_ratio                         float64\n",
       "total_generation                             float64\n",
       "dtype: object"
      ]
     },
     "execution_count": 86,
     "metadata": {},
     "output_type": "execute_result"
    }
   ],
   "source": [
    "final_table1.dtypes"
   ]
  },
  {
   "cell_type": "markdown",
   "id": "21d1c55b-d47c-4948-9cbf-d0a28716f0ad",
   "metadata": {},
   "source": [
    "## Experiment 1"
   ]
  },
  {
   "cell_type": "code",
   "execution_count": 128,
   "id": "dccf7d8f-5553-4335-bf4b-dde69035e064",
   "metadata": {},
   "outputs": [],
   "source": [
    "import pandas as pd\n",
    "from xgboost import XGBRegressor\n",
    "from sklearn.model_selection import GridSearchCV\n",
    "from sklearn.metrics import mean_squared_error\n",
    "from sklearn.model_selection import train_test_split\n",
    "\n",
    "# Define the timestamp for the split (e.g., August 1, 2023)\n",
    "split_timestamp = pd.to_datetime(\"2023-07-01\", utc=True)\n",
    "\n",
    "# Split the data\n",
    "train_data = final_table1[final_table1['datetime_utc'] < split_timestamp]\n",
    "test_data = final_table1[final_table1['datetime_utc'] >= split_timestamp]"
   ]
  },
  {
   "cell_type": "code",
   "execution_count": 129,
   "id": "0df6fa5c-c1d8-42d8-ba38-2ff73f7fdbf0",
   "metadata": {},
   "outputs": [],
   "source": [
    "features = ['gen_value', \n",
    "            'dem_value', \n",
    "            'spot_price_value', \n",
    "            'solar_wind_gen',\n",
    "            'coal_ccgt_gen',\n",
    "            'solar_wind_ccgt_ratio',\n",
    "            'gen_value_rolling_mean',\n",
    "            'dem_value_rolling_mean',\n",
    "            'spot_price_value_rolling_mean',\n",
    "            'spot_price_lag_1',\n",
    "            'solar_wind_gen_ratio',\n",
    "            'total_generation']\n"
   ]
  },
  {
   "cell_type": "code",
   "execution_count": 130,
   "id": "d80d3640-f085-496b-afac-de0ee45ebf96",
   "metadata": {},
   "outputs": [
    {
     "name": "stdout",
     "output_type": "stream",
     "text": [
      "Best MSE: 0.17414949926958376\n",
      "Best Hyperparameters: (300, 0.99, 4)\n"
     ]
    }
   ],
   "source": [
    "# Define hyperparameters to search\n",
    "param_grid = {\n",
    "    'n_estimators': [100, 200, 300],\n",
    "    'learning_rate': [0.01, 0.3, 0.99],\n",
    "    'max_depth': [3, 4, 5]\n",
    "    #'early_stopping_rounds': [5],\n",
    "}\n",
    "\n",
    "best_mse = float('inf')\n",
    "best_params = None\n",
    "\n",
    "for n_estimators in param_grid['n_estimators']:\n",
    "    for learning_rate in param_grid['learning_rate']:\n",
    "        for max_depth in param_grid['max_depth']:\n",
    "            #for early_stopping_rounds in param_grid['early_stopping_rounds']:\n",
    "                \n",
    "                     # Initialize the XGBoost model with current hyperparameters\n",
    "                xgb = XGBRegressor(n_estimators=n_estimators, \n",
    "                                   learning_rate=learning_rate, \n",
    "                                   max_depth=max_depth)\n",
    "                                   #early_stopping_rounds=early_stopping_rounds)\n",
    "\n",
    "                # Train the model on the training data\n",
    "                xgb.fit(train_data[features], train_data['spot_price_value'])\n",
    "                \n",
    "                    # Make predictions on the testing data\n",
    "                y_pred = xgb.predict(test_data[features])\n",
    "\n",
    "                # Calculate MSE\n",
    "                mse = mean_squared_error(test_data['spot_price_value'], y_pred)\n",
    "\n",
    "                if mse < best_mse:\n",
    "                    best_mse = mse\n",
    "                    best_params = (n_estimators, learning_rate, max_depth)\n",
    "\n",
    "print(f\"Best MSE: {best_mse}\")\n",
    "print(f\"Best Hyperparameters: {best_params}\")   "
   ]
  },
  {
   "cell_type": "code",
   "execution_count": 131,
   "id": "12cc1a2f-0ae8-4709-925f-3d57a389c279",
   "metadata": {},
   "outputs": [
    {
     "data": {
      "text/html": [
       "<style>#sk-container-id-3 {color: black;}#sk-container-id-3 pre{padding: 0;}#sk-container-id-3 div.sk-toggleable {background-color: white;}#sk-container-id-3 label.sk-toggleable__label {cursor: pointer;display: block;width: 100%;margin-bottom: 0;padding: 0.3em;box-sizing: border-box;text-align: center;}#sk-container-id-3 label.sk-toggleable__label-arrow:before {content: \"▸\";float: left;margin-right: 0.25em;color: #696969;}#sk-container-id-3 label.sk-toggleable__label-arrow:hover:before {color: black;}#sk-container-id-3 div.sk-estimator:hover label.sk-toggleable__label-arrow:before {color: black;}#sk-container-id-3 div.sk-toggleable__content {max-height: 0;max-width: 0;overflow: hidden;text-align: left;background-color: #f0f8ff;}#sk-container-id-3 div.sk-toggleable__content pre {margin: 0.2em;color: black;border-radius: 0.25em;background-color: #f0f8ff;}#sk-container-id-3 input.sk-toggleable__control:checked~div.sk-toggleable__content {max-height: 200px;max-width: 100%;overflow: auto;}#sk-container-id-3 input.sk-toggleable__control:checked~label.sk-toggleable__label-arrow:before {content: \"▾\";}#sk-container-id-3 div.sk-estimator input.sk-toggleable__control:checked~label.sk-toggleable__label {background-color: #d4ebff;}#sk-container-id-3 div.sk-label input.sk-toggleable__control:checked~label.sk-toggleable__label {background-color: #d4ebff;}#sk-container-id-3 input.sk-hidden--visually {border: 0;clip: rect(1px 1px 1px 1px);clip: rect(1px, 1px, 1px, 1px);height: 1px;margin: -1px;overflow: hidden;padding: 0;position: absolute;width: 1px;}#sk-container-id-3 div.sk-estimator {font-family: monospace;background-color: #f0f8ff;border: 1px dotted black;border-radius: 0.25em;box-sizing: border-box;margin-bottom: 0.5em;}#sk-container-id-3 div.sk-estimator:hover {background-color: #d4ebff;}#sk-container-id-3 div.sk-parallel-item::after {content: \"\";width: 100%;border-bottom: 1px solid gray;flex-grow: 1;}#sk-container-id-3 div.sk-label:hover label.sk-toggleable__label {background-color: #d4ebff;}#sk-container-id-3 div.sk-serial::before {content: \"\";position: absolute;border-left: 1px solid gray;box-sizing: border-box;top: 0;bottom: 0;left: 50%;z-index: 0;}#sk-container-id-3 div.sk-serial {display: flex;flex-direction: column;align-items: center;background-color: white;padding-right: 0.2em;padding-left: 0.2em;position: relative;}#sk-container-id-3 div.sk-item {position: relative;z-index: 1;}#sk-container-id-3 div.sk-parallel {display: flex;align-items: stretch;justify-content: center;background-color: white;position: relative;}#sk-container-id-3 div.sk-item::before, #sk-container-id-3 div.sk-parallel-item::before {content: \"\";position: absolute;border-left: 1px solid gray;box-sizing: border-box;top: 0;bottom: 0;left: 50%;z-index: -1;}#sk-container-id-3 div.sk-parallel-item {display: flex;flex-direction: column;z-index: 1;position: relative;background-color: white;}#sk-container-id-3 div.sk-parallel-item:first-child::after {align-self: flex-end;width: 50%;}#sk-container-id-3 div.sk-parallel-item:last-child::after {align-self: flex-start;width: 50%;}#sk-container-id-3 div.sk-parallel-item:only-child::after {width: 0;}#sk-container-id-3 div.sk-dashed-wrapped {border: 1px dashed gray;margin: 0 0.4em 0.5em 0.4em;box-sizing: border-box;padding-bottom: 0.4em;background-color: white;}#sk-container-id-3 div.sk-label label {font-family: monospace;font-weight: bold;display: inline-block;line-height: 1.2em;}#sk-container-id-3 div.sk-label-container {text-align: center;}#sk-container-id-3 div.sk-container {/* jupyter's `normalize.less` sets `[hidden] { display: none; }` but bootstrap.min.css set `[hidden] { display: none !important; }` so we also need the `!important` here to be able to override the default hidden behavior on the sphinx rendered scikit-learn.org. See: https://github.com/scikit-learn/scikit-learn/issues/21755 */display: inline-block !important;position: relative;}#sk-container-id-3 div.sk-text-repr-fallback {display: none;}</style><div id=\"sk-container-id-3\" class=\"sk-top-container\"><div class=\"sk-text-repr-fallback\"><pre>XGBRegressor(base_score=None, booster=None, callbacks=None,\n",
       "             colsample_bylevel=None, colsample_bynode=None,\n",
       "             colsample_bytree=None, device=None, early_stopping_rounds=None,\n",
       "             enable_categorical=False, eval_metric=None, feature_types=None,\n",
       "             gamma=None, grow_policy=None, importance_type=None,\n",
       "             interaction_constraints=None, learning_rate=0.99, max_bin=None,\n",
       "             max_cat_threshold=None, max_cat_to_onehot=None,\n",
       "             max_delta_step=None, max_depth=4, max_leaves=None,\n",
       "             min_child_weight=None, missing=nan, monotone_constraints=None,\n",
       "             multi_strategy=None, n_estimators=300, n_jobs=None,\n",
       "             num_parallel_tree=None, random_state=None, ...)</pre><b>In a Jupyter environment, please rerun this cell to show the HTML representation or trust the notebook. <br />On GitHub, the HTML representation is unable to render, please try loading this page with nbviewer.org.</b></div><div class=\"sk-container\" hidden><div class=\"sk-item\"><div class=\"sk-estimator sk-toggleable\"><input class=\"sk-toggleable__control sk-hidden--visually\" id=\"sk-estimator-id-3\" type=\"checkbox\" checked><label for=\"sk-estimator-id-3\" class=\"sk-toggleable__label sk-toggleable__label-arrow\">XGBRegressor</label><div class=\"sk-toggleable__content\"><pre>XGBRegressor(base_score=None, booster=None, callbacks=None,\n",
       "             colsample_bylevel=None, colsample_bynode=None,\n",
       "             colsample_bytree=None, device=None, early_stopping_rounds=None,\n",
       "             enable_categorical=False, eval_metric=None, feature_types=None,\n",
       "             gamma=None, grow_policy=None, importance_type=None,\n",
       "             interaction_constraints=None, learning_rate=0.99, max_bin=None,\n",
       "             max_cat_threshold=None, max_cat_to_onehot=None,\n",
       "             max_delta_step=None, max_depth=4, max_leaves=None,\n",
       "             min_child_weight=None, missing=nan, monotone_constraints=None,\n",
       "             multi_strategy=None, n_estimators=300, n_jobs=None,\n",
       "             num_parallel_tree=None, random_state=None, ...)</pre></div></div></div></div></div>"
      ],
      "text/plain": [
       "XGBRegressor(base_score=None, booster=None, callbacks=None,\n",
       "             colsample_bylevel=None, colsample_bynode=None,\n",
       "             colsample_bytree=None, device=None, early_stopping_rounds=None,\n",
       "             enable_categorical=False, eval_metric=None, feature_types=None,\n",
       "             gamma=None, grow_policy=None, importance_type=None,\n",
       "             interaction_constraints=None, learning_rate=0.99, max_bin=None,\n",
       "             max_cat_threshold=None, max_cat_to_onehot=None,\n",
       "             max_delta_step=None, max_depth=4, max_leaves=None,\n",
       "             min_child_weight=None, missing=nan, monotone_constraints=None,\n",
       "             multi_strategy=None, n_estimators=300, n_jobs=None,\n",
       "             num_parallel_tree=None, random_state=None, ...)"
      ]
     },
     "execution_count": 131,
     "metadata": {},
     "output_type": "execute_result"
    }
   ],
   "source": [
    "best_n_estimators, best_learning_rate, best_max_depth = best_params\n",
    "\n",
    "xgb = XGBRegressor(n_estimators=best_n_estimators, learning_rate=best_learning_rate, max_depth=best_max_depth)\n",
    "xgb.fit(train_data[features], train_data['spot_price_value'])"
   ]
  },
  {
   "cell_type": "code",
   "execution_count": 132,
   "id": "7ee09966-6056-4182-8778-75d8e5381662",
   "metadata": {},
   "outputs": [
    {
     "name": "stdout",
     "output_type": "stream",
     "text": [
      "MSE on Testing Data: 0.17414949926958376\n"
     ]
    }
   ],
   "source": [
    "y_pred = xgb.predict(test_data[features])\n",
    "mse = mean_squared_error(test_data['spot_price_value'], y_pred)\n",
    "print(f\"MSE on Testing Data: {mse}\")"
   ]
  },
  {
   "cell_type": "markdown",
   "id": "8d907856-68b2-477d-b0d4-f6d6b0dfae3a",
   "metadata": {},
   "source": [
    "**Calculating the MSE when predicting the price for the \"future data\" data set**"
   ]
  },
  {
   "cell_type": "code",
   "execution_count": 133,
   "id": "7efbf15a-2dd6-4baa-85aa-9520028204de",
   "metadata": {},
   "outputs": [],
   "source": [
    "future_data = pd.read_csv('future_data.csv')"
   ]
  },
  {
   "cell_type": "code",
   "execution_count": 134,
   "id": "1a146757-951d-4840-bd1d-75d668bf5024",
   "metadata": {},
   "outputs": [
    {
     "name": "stdout",
     "output_type": "stream",
     "text": [
      "MSE for future data: 0.4939289947109285\n"
     ]
    }
   ],
   "source": [
    "y_pred_future = xgb.predict(future_data[features])\n",
    "mse_future1 = mean_squared_error(future_data['spot_price_value'], y_pred_future)\n",
    "print(f\"MSE for future data: {mse_future1}\")"
   ]
  },
  {
   "cell_type": "markdown",
   "id": "abb3c961-4a12-48a1-89b0-be34b950512e",
   "metadata": {},
   "source": [
    "## Experiment 2"
   ]
  },
  {
   "cell_type": "code",
   "execution_count": 119,
   "id": "083675f0-ef24-4c96-980f-ec174939c221",
   "metadata": {},
   "outputs": [],
   "source": [
    "from sklearn.model_selection import train_test_split\n",
    "\n",
    "X = final_table[features]\n",
    "y = final_table['spot_price_value']\n",
    "\n",
    "# Split(70% train, 30% test)\n",
    "X_train, X_test, y_train, y_test = train_test_split(X, y, test_size=0.3, random_state=0)"
   ]
  },
  {
   "cell_type": "code",
   "execution_count": 120,
   "id": "e4a5cdee-8dd9-459b-b16a-57ffd5524135",
   "metadata": {},
   "outputs": [
    {
     "name": "stdout",
     "output_type": "stream",
     "text": [
      "Best hyperparameters found:\n",
      "{'learning_rate': 0.3, 'max_depth': 5, 'n_estimators': 300}\n"
     ]
    }
   ],
   "source": [
    "from sklearn.model_selection import GridSearchCV\n",
    "\n",
    "param_grid = {\n",
    "    'n_estimators': [100, 200, 300],\n",
    "    'learning_rate': [0.01, 0.3, 0.99],\n",
    "    'max_depth': [3, 4, 5]\n",
    "    #'early_stopping_rounds': [5],\n",
    "}\n",
    "\n",
    "xgb = XGBRegressor()\n",
    "grid_search = GridSearchCV(xgb, param_grid, cv=10, scoring='neg_mean_squared_error', n_jobs=-1)\n",
    "grid_search.fit(X_train, y_train)\n",
    "\n",
    "# Print the best hyperparameters\n",
    "print(\"Best hyperparameters found:\")\n",
    "print(grid_search.best_params_)"
   ]
  },
  {
   "cell_type": "code",
   "execution_count": 121,
   "id": "7ec08825-6ca2-4196-9e5c-14d6810c5473",
   "metadata": {},
   "outputs": [
    {
     "data": {
      "text/html": [
       "<style>#sk-container-id-2 {color: black;}#sk-container-id-2 pre{padding: 0;}#sk-container-id-2 div.sk-toggleable {background-color: white;}#sk-container-id-2 label.sk-toggleable__label {cursor: pointer;display: block;width: 100%;margin-bottom: 0;padding: 0.3em;box-sizing: border-box;text-align: center;}#sk-container-id-2 label.sk-toggleable__label-arrow:before {content: \"▸\";float: left;margin-right: 0.25em;color: #696969;}#sk-container-id-2 label.sk-toggleable__label-arrow:hover:before {color: black;}#sk-container-id-2 div.sk-estimator:hover label.sk-toggleable__label-arrow:before {color: black;}#sk-container-id-2 div.sk-toggleable__content {max-height: 0;max-width: 0;overflow: hidden;text-align: left;background-color: #f0f8ff;}#sk-container-id-2 div.sk-toggleable__content pre {margin: 0.2em;color: black;border-radius: 0.25em;background-color: #f0f8ff;}#sk-container-id-2 input.sk-toggleable__control:checked~div.sk-toggleable__content {max-height: 200px;max-width: 100%;overflow: auto;}#sk-container-id-2 input.sk-toggleable__control:checked~label.sk-toggleable__label-arrow:before {content: \"▾\";}#sk-container-id-2 div.sk-estimator input.sk-toggleable__control:checked~label.sk-toggleable__label {background-color: #d4ebff;}#sk-container-id-2 div.sk-label input.sk-toggleable__control:checked~label.sk-toggleable__label {background-color: #d4ebff;}#sk-container-id-2 input.sk-hidden--visually {border: 0;clip: rect(1px 1px 1px 1px);clip: rect(1px, 1px, 1px, 1px);height: 1px;margin: -1px;overflow: hidden;padding: 0;position: absolute;width: 1px;}#sk-container-id-2 div.sk-estimator {font-family: monospace;background-color: #f0f8ff;border: 1px dotted black;border-radius: 0.25em;box-sizing: border-box;margin-bottom: 0.5em;}#sk-container-id-2 div.sk-estimator:hover {background-color: #d4ebff;}#sk-container-id-2 div.sk-parallel-item::after {content: \"\";width: 100%;border-bottom: 1px solid gray;flex-grow: 1;}#sk-container-id-2 div.sk-label:hover label.sk-toggleable__label {background-color: #d4ebff;}#sk-container-id-2 div.sk-serial::before {content: \"\";position: absolute;border-left: 1px solid gray;box-sizing: border-box;top: 0;bottom: 0;left: 50%;z-index: 0;}#sk-container-id-2 div.sk-serial {display: flex;flex-direction: column;align-items: center;background-color: white;padding-right: 0.2em;padding-left: 0.2em;position: relative;}#sk-container-id-2 div.sk-item {position: relative;z-index: 1;}#sk-container-id-2 div.sk-parallel {display: flex;align-items: stretch;justify-content: center;background-color: white;position: relative;}#sk-container-id-2 div.sk-item::before, #sk-container-id-2 div.sk-parallel-item::before {content: \"\";position: absolute;border-left: 1px solid gray;box-sizing: border-box;top: 0;bottom: 0;left: 50%;z-index: -1;}#sk-container-id-2 div.sk-parallel-item {display: flex;flex-direction: column;z-index: 1;position: relative;background-color: white;}#sk-container-id-2 div.sk-parallel-item:first-child::after {align-self: flex-end;width: 50%;}#sk-container-id-2 div.sk-parallel-item:last-child::after {align-self: flex-start;width: 50%;}#sk-container-id-2 div.sk-parallel-item:only-child::after {width: 0;}#sk-container-id-2 div.sk-dashed-wrapped {border: 1px dashed gray;margin: 0 0.4em 0.5em 0.4em;box-sizing: border-box;padding-bottom: 0.4em;background-color: white;}#sk-container-id-2 div.sk-label label {font-family: monospace;font-weight: bold;display: inline-block;line-height: 1.2em;}#sk-container-id-2 div.sk-label-container {text-align: center;}#sk-container-id-2 div.sk-container {/* jupyter's `normalize.less` sets `[hidden] { display: none; }` but bootstrap.min.css set `[hidden] { display: none !important; }` so we also need the `!important` here to be able to override the default hidden behavior on the sphinx rendered scikit-learn.org. See: https://github.com/scikit-learn/scikit-learn/issues/21755 */display: inline-block !important;position: relative;}#sk-container-id-2 div.sk-text-repr-fallback {display: none;}</style><div id=\"sk-container-id-2\" class=\"sk-top-container\"><div class=\"sk-text-repr-fallback\"><pre>XGBRegressor(base_score=None, booster=None, callbacks=None,\n",
       "             colsample_bylevel=None, colsample_bynode=None,\n",
       "             colsample_bytree=None, device=None, early_stopping_rounds=None,\n",
       "             enable_categorical=False, eval_metric=None, feature_types=None,\n",
       "             gamma=None, grow_policy=None, importance_type=None,\n",
       "             interaction_constraints=None, learning_rate=0.3, max_bin=None,\n",
       "             max_cat_threshold=None, max_cat_to_onehot=None,\n",
       "             max_delta_step=None, max_depth=5, max_leaves=None,\n",
       "             min_child_weight=None, missing=nan, monotone_constraints=None,\n",
       "             multi_strategy=None, n_estimators=300, n_jobs=None,\n",
       "             num_parallel_tree=None, random_state=None, ...)</pre><b>In a Jupyter environment, please rerun this cell to show the HTML representation or trust the notebook. <br />On GitHub, the HTML representation is unable to render, please try loading this page with nbviewer.org.</b></div><div class=\"sk-container\" hidden><div class=\"sk-item\"><div class=\"sk-estimator sk-toggleable\"><input class=\"sk-toggleable__control sk-hidden--visually\" id=\"sk-estimator-id-2\" type=\"checkbox\" checked><label for=\"sk-estimator-id-2\" class=\"sk-toggleable__label sk-toggleable__label-arrow\">XGBRegressor</label><div class=\"sk-toggleable__content\"><pre>XGBRegressor(base_score=None, booster=None, callbacks=None,\n",
       "             colsample_bylevel=None, colsample_bynode=None,\n",
       "             colsample_bytree=None, device=None, early_stopping_rounds=None,\n",
       "             enable_categorical=False, eval_metric=None, feature_types=None,\n",
       "             gamma=None, grow_policy=None, importance_type=None,\n",
       "             interaction_constraints=None, learning_rate=0.3, max_bin=None,\n",
       "             max_cat_threshold=None, max_cat_to_onehot=None,\n",
       "             max_delta_step=None, max_depth=5, max_leaves=None,\n",
       "             min_child_weight=None, missing=nan, monotone_constraints=None,\n",
       "             multi_strategy=None, n_estimators=300, n_jobs=None,\n",
       "             num_parallel_tree=None, random_state=None, ...)</pre></div></div></div></div></div>"
      ],
      "text/plain": [
       "XGBRegressor(base_score=None, booster=None, callbacks=None,\n",
       "             colsample_bylevel=None, colsample_bynode=None,\n",
       "             colsample_bytree=None, device=None, early_stopping_rounds=None,\n",
       "             enable_categorical=False, eval_metric=None, feature_types=None,\n",
       "             gamma=None, grow_policy=None, importance_type=None,\n",
       "             interaction_constraints=None, learning_rate=0.3, max_bin=None,\n",
       "             max_cat_threshold=None, max_cat_to_onehot=None,\n",
       "             max_delta_step=None, max_depth=5, max_leaves=None,\n",
       "             min_child_weight=None, missing=nan, monotone_constraints=None,\n",
       "             multi_strategy=None, n_estimators=300, n_jobs=None,\n",
       "             num_parallel_tree=None, random_state=None, ...)"
      ]
     },
     "execution_count": 121,
     "metadata": {},
     "output_type": "execute_result"
    }
   ],
   "source": [
    "best_xgb2 = grid_search.best_estimator_\n",
    "best_xgb2.fit(X_train, y_train)"
   ]
  },
  {
   "cell_type": "code",
   "execution_count": 122,
   "id": "21a421c5-54ab-474a-b3c0-6f0064f38701",
   "metadata": {},
   "outputs": [
    {
     "name": "stdout",
     "output_type": "stream",
     "text": [
      "MSE on test data: 5.431494261718018\n"
     ]
    }
   ],
   "source": [
    "y_pred_test = best_xgb2.predict(X_test)\n",
    "mse_test = mean_squared_error(y_test, y_pred_test)\n",
    "print(f\"MSE on test data: {mse_test}\")"
   ]
  },
  {
   "cell_type": "code",
   "execution_count": 123,
   "id": "cc5c8453-c624-4667-9c15-a7b0d19fb257",
   "metadata": {},
   "outputs": [
    {
     "name": "stdout",
     "output_type": "stream",
     "text": [
      "MSE for future data: 0.39720330451074026\n"
     ]
    }
   ],
   "source": [
    "y_pred_future = best_xgb2.predict(future_data[features])\n",
    "mse_future = mean_squared_error(future_data['spot_price_value'], y_pred_future)\n",
    "print(f\"MSE for future data: {mse_future}\")"
   ]
  },
  {
   "cell_type": "markdown",
   "id": "b8fa1523-77ba-4a0f-9dea-87aeacd2de3a",
   "metadata": {},
   "source": [
    "## MSE FOR EXPERIMENT 1"
   ]
  },
  {
   "cell_type": "markdown",
   "id": "6c291110-2f2c-404e-8e04-8db5184c7ba5",
   "metadata": {},
   "source": [
    "MSE for future data: 0.4939289947109285"
   ]
  },
  {
   "cell_type": "code",
   "execution_count": 137,
   "id": "e80f9572-379b-4d31-8bd4-3834b564ce17",
   "metadata": {},
   "outputs": [
    {
     "data": {
      "text/plain": [
       "0.4939289947109285"
      ]
     },
     "execution_count": 137,
     "metadata": {},
     "output_type": "execute_result"
    }
   ],
   "source": [
    "mse_future1"
   ]
  },
  {
   "cell_type": "markdown",
   "id": "0fb8f35e-0001-48e3-94a6-0f5faabfd135",
   "metadata": {},
   "source": [
    "## MSE FOR EXPERIMENT 2"
   ]
  },
  {
   "cell_type": "markdown",
   "id": "1ab17d07-1181-4a3f-b8ab-d9847dc249a3",
   "metadata": {},
   "source": [
    "MSE for future data: 0.39720330451074026"
   ]
  },
  {
   "cell_type": "code",
   "execution_count": 138,
   "id": "b483081b-7abb-4e39-91ba-f077735ddf2d",
   "metadata": {},
   "outputs": [
    {
     "data": {
      "text/plain": [
       "0.39720330451074026"
      ]
     },
     "execution_count": 138,
     "metadata": {},
     "output_type": "execute_result"
    }
   ],
   "source": [
    "mse_future"
   ]
  },
  {
   "cell_type": "markdown",
   "id": "807e8763-0415-469c-bca5-72f0c0524920",
   "metadata": {},
   "source": [
    "## Conclusion"
   ]
  },
  {
   "cell_type": "markdown",
   "id": "485845b2-8650-47d3-9a5e-6e8ec3eb708e",
   "metadata": {},
   "source": [
    "Purely based on the performances (MSE1 and MSE2), which experiment yields better results?"
   ]
  },
  {
   "cell_type": "markdown",
   "id": "93564c58-c34a-4311-9dac-15c19d71dcce",
   "metadata": {},
   "source": [
    "To conclude, let's compare the results of both experiments based on their Mean Squared Error (MSE) performances. We have MSE1 from experiment 1 and MSE2 from experiment 2.\n",
    "\n",
    "**MSE1 (Experiment 1): 0.4939**\n",
    "**MSE2 (Experiment 2): 0.3972**\n",
    "\n",
    "The lower the MSE, the better the model's performance in terms of predictive accuracy. In this case, MSE2 (0.3972) is lower than MSE1 (0.4939), which indicates that experiment 2 yielded better results in terms of prediction accuracy. Here are some key points to consider in the conclusion:\n",
    "\n",
    "1. **Data Nature:**\n",
    "   - Experiment 1 (MSE1) used a time series approach, taking into account the temporal dependencies in the data.\n",
    "   - Experiment 2 (MSE2) treated the data as independent and identically distributed (i.i.d.) samples without considering the time series structure.\n",
    "\n",
    "2. **MSE Difference:**\n",
    "   - The fact that MSE2 is lower suggests that the model performed better when the data was treated as i.i.d. samples. This might imply that the time series characteristics in the data did not provide substantial predictive power.\n",
    "\n",
    "3. **Time Series Complexity:**\n",
    "   - Time series data can be complex due to seasonality, trends, and other temporal patterns. Experiment 1 attempted to capture these patterns but resulted in a slightly higher MSE.\n",
    "   - Experiment 2, which treated the data as non-time series, produced a lower MSE, possibly indicating that the added complexity in time series modeling did not significantly improve predictive accuracy.\n",
    "\n",
    "4. **Hyperparameter Tuning:**\n",
    "   - Experiment 2 utilized GridSearchCV to find the best hyperparameters, which may have contributed to the improved performance.\n",
    "   - Experiment 1 could benefit from a more comprehensive hyperparameter search or advanced time series modeling techniques.\n",
    "\n",
    "5. **Conclusion:**\n",
    "   - Experiment 2, treating the data as i.i.d. samples, yielded a better MSE, suggesting that for predictive purposes, the temporal dependencies in the data may not be as significant as initially thought.\n",
    "   - However, it's essential to acknowledge that time series modeling is not solely about predictive accuracy; it can provide valuable insights into temporal patterns and trends, which might be crucial for other analytical purposes.\n",
    "\n",
    "In summary, based purely on the MSE performances, Experiment 2 appears to deliver better results. Still, it's important to consider the nature of the data, the problem's goals, and the trade-offs between predictive accuracy and interpretability when deciding on the most appropriate modeling approach."
   ]
  }
 ],
 "metadata": {
  "kernelspec": {
   "display_name": "Python [conda env:Python1Environment] *",
   "language": "python",
   "name": "conda-env-Python1Environment-py"
  },
  "language_info": {
   "codemirror_mode": {
    "name": "ipython",
    "version": 3
   },
   "file_extension": ".py",
   "mimetype": "text/x-python",
   "name": "python",
   "nbconvert_exporter": "python",
   "pygments_lexer": "ipython3",
   "version": "3.9.16"
  }
 },
 "nbformat": 4,
 "nbformat_minor": 5
}
